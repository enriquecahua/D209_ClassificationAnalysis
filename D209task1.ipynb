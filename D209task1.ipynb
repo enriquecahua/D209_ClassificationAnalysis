{
 "cells": [
  {
   "cell_type": "code",
   "execution_count": 1,
   "metadata": {},
   "outputs": [],
   "source": [
    "import pandas as pd\n",
    "import numpy as np\n",
    "import scipy\n",
    "import matplotlib\n",
    "from scipy import stats\n",
    "import matplotlib.pyplot as plt\n",
    "import seaborn as sns\n",
    "import statsmodels.api as sm"
   ]
  },
  {
   "cell_type": "code",
   "execution_count": 2,
   "metadata": {},
   "outputs": [
    {
     "name": "stdout",
     "output_type": "stream",
     "text": [
      "pandas version 1.0.5\n",
      "numpy version 1.18.5\n",
      "scipy version 1.5.0\n",
      "matplotlib version 3.2.2\n",
      "seaborn version 0.10.1\n",
      "statsmodels version 0.11.1\n"
     ]
    }
   ],
   "source": [
    "print(\"pandas version \" + pd.__version__)\n",
    "print(\"numpy version \" + np.__version__)\n",
    "print(\"scipy version \" + scipy.__version__)\n",
    "print(\"matplotlib version \" + matplotlib.__version__)\n",
    "print(\"seaborn version \" + sns.__version__)\n",
    "print(\"statsmodels version \" + sm.__version__)"
   ]
  },
  {
   "cell_type": "code",
   "execution_count": 3,
   "metadata": {},
   "outputs": [],
   "source": [
    "df = pd.read_csv(r\"medical_clean.csv\")"
   ]
  },
  {
   "cell_type": "code",
   "execution_count": 4,
   "metadata": {},
   "outputs": [],
   "source": [
    "#pd.options.display.float_format = '{:,.6f}'.format\n",
    "pd.set_option('display.max_columns', None) #show all columns"
   ]
  },
  {
   "cell_type": "code",
   "execution_count": 5,
   "metadata": {},
   "outputs": [
    {
     "data": {
      "text/plain": [
       "No     6331\n",
       "Yes    3669\n",
       "Name: ReAdmis, dtype: int64"
      ]
     },
     "execution_count": 5,
     "metadata": {},
     "output_type": "execute_result"
    }
   ],
   "source": [
    "df['ReAdmis'].value_counts()"
   ]
  },
  {
   "cell_type": "code",
   "execution_count": 6,
   "metadata": {},
   "outputs": [
    {
     "data": {
      "text/plain": [
       "(10000, 50)"
      ]
     },
     "execution_count": 6,
     "metadata": {},
     "output_type": "execute_result"
    }
   ],
   "source": [
    "df.shape"
   ]
  },
  {
   "cell_type": "markdown",
   "metadata": {},
   "source": [
    "Some data Prep"
   ]
  },
  {
   "cell_type": "code",
   "execution_count": 7,
   "metadata": {},
   "outputs": [],
   "source": [
    "# df.drop(['CaseOrder'], axis=1, inplace=True)\n",
    "\n",
    "# #dropping \"items\"\n",
    "# df.drop(['Item1'], axis=1, inplace=True)\n",
    "# df.drop(['Item2'], axis=1, inplace=True)\n",
    "# df.drop(['Item3'], axis=1, inplace=True)\n",
    "# df.drop(['Item4'], axis=1, inplace=True)\n",
    "# df.drop(['Item5'], axis=1, inplace=True)\n",
    "# df.drop(['Item6'], axis=1, inplace=True)\n",
    "# df.drop(['Item7'], axis=1, inplace=True)\n",
    "# df.drop(['Item8'], axis=1, inplace=True)"
   ]
  },
  {
   "cell_type": "code",
   "execution_count": 8,
   "metadata": {},
   "outputs": [],
   "source": [
    "df['Initial_admin'] = df['Initial_admin'].str.replace(' Admission', '')\n",
    "df['Services'] = df['Services'].str.replace(' ', '_')\n",
    "df['Marital'] = df['Marital'].str.replace(' ','_')"
   ]
  },
  {
   "cell_type": "code",
   "execution_count": null,
   "metadata": {},
   "outputs": [],
   "source": []
  },
  {
   "cell_type": "code",
   "execution_count": 9,
   "metadata": {},
   "outputs": [
    {
     "data": {
      "text/plain": [
       "(10000, 50)"
      ]
     },
     "execution_count": 9,
     "metadata": {},
     "output_type": "execute_result"
    }
   ],
   "source": [
    "df.shape"
   ]
  },
  {
   "cell_type": "code",
   "execution_count": 10,
   "metadata": {},
   "outputs": [],
   "source": [
    "#df.isna().any()"
   ]
  },
  {
   "cell_type": "code",
   "execution_count": 11,
   "metadata": {},
   "outputs": [
    {
     "name": "stdout",
     "output_type": "stream",
     "text": [
      "122814\n"
     ]
    }
   ],
   "source": [
    "print(df.Population.max())"
   ]
  },
  {
   "cell_type": "code",
   "execution_count": 12,
   "metadata": {},
   "outputs": [],
   "source": [
    "#sns.heatmap(df.isnull())"
   ]
  },
  {
   "cell_type": "code",
   "execution_count": 13,
   "metadata": {},
   "outputs": [],
   "source": [
    "#df.hist(figsize = (15,15))"
   ]
  },
  {
   "cell_type": "code",
   "execution_count": 14,
   "metadata": {},
   "outputs": [
    {
     "data": {
      "text/plain": [
       "No     6331\n",
       "Yes    3669\n",
       "Name: ReAdmis, dtype: int64"
      ]
     },
     "execution_count": 14,
     "metadata": {},
     "output_type": "execute_result"
    }
   ],
   "source": [
    "df['ReAdmis'].value_counts()"
   ]
  },
  {
   "cell_type": "code",
   "execution_count": 15,
   "metadata": {},
   "outputs": [
    {
     "data": {
      "image/png": "[encoded data removed]",
      "text/plain": [
       "<Figure size 432x288 with 1 Axes>"
      ]
     },
     "metadata": {},
     "output_type": "display_data"
    }
   ],
   "source": [
    "df['ReAdmis'].value_counts().plot.pie(autopct=\"%.1f%%\");\n",
    "plt.title(\"Readmission\", fontsize=14);"
   ]
  },
  {
   "cell_type": "code",
   "execution_count": 16,
   "metadata": {},
   "outputs": [
    {
     "data": {
      "text/html": [
       "<div>\n",
       "<style scoped>\n",
       "    .dataframe tbody tr th:only-of-type {\n",
       "        vertical-align: middle;\n",
       "    }\n",
       "\n",
       "    .dataframe tbody tr th {\n",
       "        vertical-align: top;\n",
       "    }\n",
       "\n",
       "    .dataframe thead th {\n",
       "        text-align: right;\n",
       "    }\n",
       "</style>\n",
       "<table border=\"1\" class=\"dataframe\">\n",
       "  <thead>\n",
       "    <tr style=\"text-align: right;\">\n",
       "      <th></th>\n",
       "      <th>CaseOrder</th>\n",
       "      <th>Zip</th>\n",
       "      <th>Lat</th>\n",
       "      <th>Lng</th>\n",
       "      <th>Population</th>\n",
       "      <th>Children</th>\n",
       "      <th>Age</th>\n",
       "      <th>Income</th>\n",
       "      <th>VitD_levels</th>\n",
       "      <th>Doc_visits</th>\n",
       "      <th>Full_meals_eaten</th>\n",
       "      <th>vitD_supp</th>\n",
       "      <th>Initial_days</th>\n",
       "      <th>TotalCharge</th>\n",
       "      <th>Additional_charges</th>\n",
       "      <th>Item1</th>\n",
       "      <th>Item2</th>\n",
       "      <th>Item3</th>\n",
       "      <th>Item4</th>\n",
       "      <th>Item5</th>\n",
       "      <th>Item6</th>\n",
       "      <th>Item7</th>\n",
       "      <th>Item8</th>\n",
       "    </tr>\n",
       "    <tr>\n",
       "      <th>ReAdmis</th>\n",
       "      <th></th>\n",
       "      <th></th>\n",
       "      <th></th>\n",
       "      <th></th>\n",
       "      <th></th>\n",
       "      <th></th>\n",
       "      <th></th>\n",
       "      <th></th>\n",
       "      <th></th>\n",
       "      <th></th>\n",
       "      <th></th>\n",
       "      <th></th>\n",
       "      <th></th>\n",
       "      <th></th>\n",
       "      <th></th>\n",
       "      <th></th>\n",
       "      <th></th>\n",
       "      <th></th>\n",
       "      <th></th>\n",
       "      <th></th>\n",
       "      <th></th>\n",
       "      <th></th>\n",
       "      <th></th>\n",
       "    </tr>\n",
       "  </thead>\n",
       "  <tbody>\n",
       "    <tr>\n",
       "      <th>No</th>\n",
       "      <td>3550.541779</td>\n",
       "      <td>49987.470700</td>\n",
       "      <td>38.810183</td>\n",
       "      <td>-91.228998</td>\n",
       "      <td>9739.104249</td>\n",
       "      <td>2.058443</td>\n",
       "      <td>53.263308</td>\n",
       "      <td>40740.257109</td>\n",
       "      <td>17.957993</td>\n",
       "      <td>5.012004</td>\n",
       "      <td>1.010741</td>\n",
       "      <td>0.393619</td>\n",
       "      <td>17.414699</td>\n",
       "      <td>3911.772150</td>\n",
       "      <td>12866.696031</td>\n",
       "      <td>3.531985</td>\n",
       "      <td>3.508608</td>\n",
       "      <td>3.520297</td>\n",
       "      <td>3.516664</td>\n",
       "      <td>3.492497</td>\n",
       "      <td>3.535776</td>\n",
       "      <td>3.497868</td>\n",
       "      <td>3.522982</td>\n",
       "    </tr>\n",
       "    <tr>\n",
       "      <th>Yes</th>\n",
       "      <td>7502.458436</td>\n",
       "      <td>50455.863178</td>\n",
       "      <td>38.649146</td>\n",
       "      <td>-91.267379</td>\n",
       "      <td>10355.483510</td>\n",
       "      <td>2.164077</td>\n",
       "      <td>53.940311</td>\n",
       "      <td>40059.521352</td>\n",
       "      <td>17.975079</td>\n",
       "      <td>5.012537</td>\n",
       "      <td>0.985282</td>\n",
       "      <td>0.408013</td>\n",
       "      <td>63.859507</td>\n",
       "      <td>7728.617663</td>\n",
       "      <td>13051.576261</td>\n",
       "      <td>3.496048</td>\n",
       "      <td>3.503407</td>\n",
       "      <td>3.495230</td>\n",
       "      <td>3.512401</td>\n",
       "      <td>3.504497</td>\n",
       "      <td>3.499591</td>\n",
       "      <td>3.487326</td>\n",
       "      <td>3.486781</td>\n",
       "    </tr>\n",
       "  </tbody>\n",
       "</table>\n",
       "</div>"
      ],
      "text/plain": [
       "           CaseOrder           Zip        Lat        Lng    Population  \\\n",
       "ReAdmis                                                                  \n",
       "No       3550.541779  49987.470700  38.810183 -91.228998   9739.104249   \n",
       "Yes      7502.458436  50455.863178  38.649146 -91.267379  10355.483510   \n",
       "\n",
       "         Children        Age        Income  VitD_levels  Doc_visits  \\\n",
       "ReAdmis                                                               \n",
       "No       2.058443  53.263308  40740.257109    17.957993    5.012004   \n",
       "Yes      2.164077  53.940311  40059.521352    17.975079    5.012537   \n",
       "\n",
       "         Full_meals_eaten  vitD_supp  Initial_days  TotalCharge  \\\n",
       "ReAdmis                                                           \n",
       "No               1.010741   0.393619     17.414699  3911.772150   \n",
       "Yes              0.985282   0.408013     63.859507  7728.617663   \n",
       "\n",
       "         Additional_charges     Item1     Item2     Item3     Item4     Item5  \\\n",
       "ReAdmis                                                                         \n",
       "No             12866.696031  3.531985  3.508608  3.520297  3.516664  3.492497   \n",
       "Yes            13051.576261  3.496048  3.503407  3.495230  3.512401  3.504497   \n",
       "\n",
       "            Item6     Item7     Item8  \n",
       "ReAdmis                                \n",
       "No       3.535776  3.497868  3.522982  \n",
       "Yes      3.499591  3.487326  3.486781  "
      ]
     },
     "execution_count": 16,
     "metadata": {},
     "output_type": "execute_result"
    }
   ],
   "source": [
    "df.groupby('ReAdmis').mean()"
   ]
  },
  {
   "cell_type": "code",
   "execution_count": 17,
   "metadata": {},
   "outputs": [],
   "source": [
    "# #%matplotlib inline\n",
    "# pd.crosstab(df.Area,df.ReAdmis).plot(kind='bar')\n",
    "# plt.title('ReAdmission by Area')\n",
    "# plt.xlabel('Area')\n",
    "# plt.ylabel('Readmission rate')\n",
    "# plt.savefig('Area and readmission')"
   ]
  },
  {
   "cell_type": "code",
   "execution_count": 18,
   "metadata": {},
   "outputs": [],
   "source": [
    "# #%matplotlib inline\n",
    "# pd.crosstab(df.Marital,df.ReAdmis).plot(kind='bar')\n",
    "# plt.title('ReAdmission by Marital status')\n",
    "# plt.xlabel('Marital status')\n",
    "# plt.ylabel('Readmission rate')\n",
    "# plt.savefig('Marital status and readmission')"
   ]
  },
  {
   "cell_type": "code",
   "execution_count": 19,
   "metadata": {},
   "outputs": [],
   "source": [
    "#df.boxplot(column='Initial_days', by='ReAdmis')"
   ]
  },
  {
   "cell_type": "code",
   "execution_count": 20,
   "metadata": {},
   "outputs": [],
   "source": [
    "#df.boxplot(column='TotalCharge', by='ReAdmis')"
   ]
  },
  {
   "cell_type": "code",
   "execution_count": 21,
   "metadata": {},
   "outputs": [],
   "source": [
    "df = df.drop(['CaseOrder', 'Customer_id', 'Interaction', 'UID', 'Zip',\n",
    "       'Lat', 'Lng', 'City', 'State','County','Job','Soft_drink'], axis = 1) \n"
   ]
  },
  {
   "cell_type": "code",
   "execution_count": 22,
   "metadata": {},
   "outputs": [],
   "source": [
    "df = df.dropna(subset=['TimeZone'])"
   ]
  },
  {
   "cell_type": "code",
   "execution_count": 23,
   "metadata": {},
   "outputs": [],
   "source": [
    "correl  = df.corr()"
   ]
  },
  {
   "cell_type": "code",
   "execution_count": 24,
   "metadata": {},
   "outputs": [],
   "source": [
    "# fig, ax = plt.subplots(figsize=(15,15))\n",
    "# sns.heatmap(correl, xticklabels = correl.columns, yticklabels = correl.columns, cmap='RdBu') "
   ]
  },
  {
   "cell_type": "markdown",
   "metadata": {},
   "source": [
    "Standardize numerical and create dummy variables"
   ]
  },
  {
   "cell_type": "markdown",
   "metadata": {},
   "source": [
    "Remove rows with outliers\n",
    "Using Z-scores to remove outliers"
   ]
  },
  {
   "cell_type": "code",
   "execution_count": 25,
   "metadata": {},
   "outputs": [],
   "source": [
    "from scipy import stats\n",
    "\n",
    "#goes row by row to remove outliers with z-score greatner than 3\n",
    "#df = df[(np.abs(stats.zscore(numerical_data)) < 3).all(axis=1)]\n",
    "\n",
    "\n",
    "df['z_Population']=stats.zscore(df['Population'])\n",
    "df['z_Children']=stats.zscore(df['Children'])\n",
    "df['z_Age']=stats.zscore(df['Age'])\n",
    "df['z_Income']=stats.zscore(df['Income'])\n",
    "df['z_VitD_levels']=stats.zscore(df['VitD_levels'])\n",
    "df['z_Doc_visits']=stats.zscore(df['Doc_visits'])\n",
    "df['z_Full_meals_eaten']=stats.zscore(df['Full_meals_eaten'])\n",
    "df['z_vitD_supp']=stats.zscore(df['vitD_supp'])\n",
    "df['z_Initial_days']=stats.zscore(df['Initial_days'])\n",
    "df['z_TotalCharge']=stats.zscore(df['TotalCharge'])\n",
    "df['z_Additional_charges']=stats.zscore(df['Additional_charges'])\n",
    "df['z_Item1']=stats.zscore(df['Item1'])\n",
    "df['z_Item2']=stats.zscore(df['Item2'])\n",
    "df['z_Item3']=stats.zscore(df['Item3'])\n",
    "df['z_Item4']=stats.zscore(df['Item4'])\n",
    "df['z_Item5']=stats.zscore(df['Item5'])\n",
    "df['z_Item6']=stats.zscore(df['Item6'])\n",
    "df['z_Item7']=stats.zscore(df['Item7'])\n",
    "df['z_Item8']=stats.zscore(df['Item8'])"
   ]
  },
  {
   "cell_type": "code",
   "execution_count": 26,
   "metadata": {},
   "outputs": [],
   "source": [
    "\n",
    "\n",
    "#\n",
    "# filtering by z scores\n",
    "#\n",
    "\n",
    "\n",
    "df=df.loc[df['z_Population'].abs()<=3]\n",
    "df=df.loc[df['z_Children'].abs()<=3]\n",
    "df=df.loc[df['z_Age'].abs()<=3]\n",
    "df=df.loc[df['z_Income'].abs()<=3]\n",
    "df=df.loc[df['z_VitD_levels'].abs()<=3]\n",
    "df=df.loc[df['z_Doc_visits'].abs()<=3]\n",
    "df=df.loc[df['z_Full_meals_eaten'].abs()<=3]\n",
    "df=df.loc[df['z_vitD_supp'].abs()<=3]\n",
    "df=df.loc[df['z_Initial_days'].abs()<=3]\n",
    "df=df.loc[df['z_TotalCharge'].abs()<=3]\n",
    "df=df.loc[df['z_Additional_charges'].abs()<=3]\n",
    "\n",
    "df=df.loc[df['z_Item1'].abs()<=3]\n",
    "df=df.loc[df['z_Item2'].abs()<=3]\n",
    "df=df.loc[df['z_Item3'].abs()<=3]\n",
    "df=df.loc[df['z_Item4'].abs()<=3]\n",
    "df=df.loc[df['z_Item5'].abs()<=3]\n",
    "df=df.loc[df['z_Item6'].abs()<=3]\n",
    "df=df.loc[df['z_Item7'].abs()<=3]\n",
    "df=df.loc[df['z_Item8'].abs()<=3]"
   ]
  },
  {
   "cell_type": "code",
   "execution_count": 27,
   "metadata": {},
   "outputs": [],
   "source": [
    "# df.drop(['ReAdmis'], axis=1, inplace=True)\n",
    "df.drop(['z_Population'], axis=1, inplace=True)\n",
    "df.drop(['z_Children'], axis=1, inplace=True)\n",
    "df.drop(['z_Age'], axis=1, inplace=True)\n",
    "df.drop(['z_Income'], axis=1, inplace=True)\n",
    "df.drop(['z_VitD_levels'], axis=1, inplace=True)\n",
    "df.drop(['z_Doc_visits'], axis=1, inplace=True)\n",
    "df.drop(['z_Full_meals_eaten'], axis=1, inplace=True)\n",
    "df.drop(['z_vitD_supp'], axis=1, inplace=True)\n",
    "df.drop(['z_Initial_days'], axis=1, inplace=True)\n",
    "df.drop(['z_TotalCharge'], axis=1, inplace=True)\n",
    "df.drop(['z_Additional_charges'], axis=1, inplace=True)\n",
    "\n",
    "\n",
    "df.drop(['z_Item1'], axis=1, inplace=True)\n",
    "df.drop(['z_Item2'], axis=1, inplace=True)\n",
    "df.drop(['z_Item3'], axis=1, inplace=True)\n",
    "df.drop(['z_Item4'], axis=1, inplace=True)\n",
    "df.drop(['z_Item5'], axis=1, inplace=True)\n",
    "df.drop(['z_Item6'], axis=1, inplace=True)\n",
    "df.drop(['z_Item7'], axis=1, inplace=True)\n",
    "df.drop(['z_Item8'], axis=1, inplace=True)\n"
   ]
  },
  {
   "cell_type": "code",
   "execution_count": null,
   "metadata": {},
   "outputs": [],
   "source": []
  },
  {
   "cell_type": "code",
   "execution_count": 28,
   "metadata": {},
   "outputs": [
    {
     "data": {
      "text/plain": [
       "(9252, 38)"
      ]
     },
     "execution_count": 28,
     "metadata": {},
     "output_type": "execute_result"
    }
   ],
   "source": [
    "df.shape"
   ]
  },
  {
   "cell_type": "code",
   "execution_count": 29,
   "metadata": {},
   "outputs": [
    {
     "data": {
      "text/html": [
       "<div>\n",
       "<style scoped>\n",
       "    .dataframe tbody tr th:only-of-type {\n",
       "        vertical-align: middle;\n",
       "    }\n",
       "\n",
       "    .dataframe tbody tr th {\n",
       "        vertical-align: top;\n",
       "    }\n",
       "\n",
       "    .dataframe thead th {\n",
       "        text-align: right;\n",
       "    }\n",
       "</style>\n",
       "<table border=\"1\" class=\"dataframe\">\n",
       "  <thead>\n",
       "    <tr style=\"text-align: right;\">\n",
       "      <th></th>\n",
       "      <th>Population</th>\n",
       "      <th>Area</th>\n",
       "      <th>TimeZone</th>\n",
       "      <th>Children</th>\n",
       "      <th>Age</th>\n",
       "      <th>Income</th>\n",
       "      <th>Marital</th>\n",
       "      <th>Gender</th>\n",
       "      <th>ReAdmis</th>\n",
       "      <th>VitD_levels</th>\n",
       "      <th>Doc_visits</th>\n",
       "      <th>Full_meals_eaten</th>\n",
       "      <th>vitD_supp</th>\n",
       "      <th>Initial_admin</th>\n",
       "      <th>HighBlood</th>\n",
       "      <th>Stroke</th>\n",
       "      <th>Complication_risk</th>\n",
       "      <th>Overweight</th>\n",
       "      <th>Arthritis</th>\n",
       "      <th>Diabetes</th>\n",
       "      <th>Hyperlipidemia</th>\n",
       "      <th>BackPain</th>\n",
       "      <th>Anxiety</th>\n",
       "      <th>Allergic_rhinitis</th>\n",
       "      <th>Reflux_esophagitis</th>\n",
       "      <th>Asthma</th>\n",
       "      <th>Services</th>\n",
       "      <th>Initial_days</th>\n",
       "      <th>TotalCharge</th>\n",
       "      <th>Additional_charges</th>\n",
       "      <th>Item1</th>\n",
       "      <th>Item2</th>\n",
       "      <th>Item3</th>\n",
       "      <th>Item4</th>\n",
       "      <th>Item5</th>\n",
       "      <th>Item6</th>\n",
       "      <th>Item7</th>\n",
       "      <th>Item8</th>\n",
       "    </tr>\n",
       "  </thead>\n",
       "  <tbody>\n",
       "    <tr>\n",
       "      <th>0</th>\n",
       "      <td>2951</td>\n",
       "      <td>Suburban</td>\n",
       "      <td>America/Chicago</td>\n",
       "      <td>1</td>\n",
       "      <td>53</td>\n",
       "      <td>86575.93</td>\n",
       "      <td>Divorced</td>\n",
       "      <td>Male</td>\n",
       "      <td>No</td>\n",
       "      <td>19.141466</td>\n",
       "      <td>6</td>\n",
       "      <td>0</td>\n",
       "      <td>0</td>\n",
       "      <td>Emergency</td>\n",
       "      <td>Yes</td>\n",
       "      <td>No</td>\n",
       "      <td>Medium</td>\n",
       "      <td>No</td>\n",
       "      <td>Yes</td>\n",
       "      <td>Yes</td>\n",
       "      <td>No</td>\n",
       "      <td>Yes</td>\n",
       "      <td>Yes</td>\n",
       "      <td>Yes</td>\n",
       "      <td>No</td>\n",
       "      <td>Yes</td>\n",
       "      <td>Blood_Work</td>\n",
       "      <td>10.585770</td>\n",
       "      <td>3726.702860</td>\n",
       "      <td>17939.403420</td>\n",
       "      <td>3</td>\n",
       "      <td>3</td>\n",
       "      <td>2</td>\n",
       "      <td>2</td>\n",
       "      <td>4</td>\n",
       "      <td>3</td>\n",
       "      <td>3</td>\n",
       "      <td>4</td>\n",
       "    </tr>\n",
       "    <tr>\n",
       "      <th>1</th>\n",
       "      <td>11303</td>\n",
       "      <td>Urban</td>\n",
       "      <td>America/Chicago</td>\n",
       "      <td>3</td>\n",
       "      <td>51</td>\n",
       "      <td>46805.99</td>\n",
       "      <td>Married</td>\n",
       "      <td>Female</td>\n",
       "      <td>No</td>\n",
       "      <td>18.940352</td>\n",
       "      <td>4</td>\n",
       "      <td>2</td>\n",
       "      <td>1</td>\n",
       "      <td>Emergency</td>\n",
       "      <td>Yes</td>\n",
       "      <td>No</td>\n",
       "      <td>High</td>\n",
       "      <td>Yes</td>\n",
       "      <td>No</td>\n",
       "      <td>No</td>\n",
       "      <td>No</td>\n",
       "      <td>No</td>\n",
       "      <td>No</td>\n",
       "      <td>No</td>\n",
       "      <td>Yes</td>\n",
       "      <td>No</td>\n",
       "      <td>Intravenous</td>\n",
       "      <td>15.129562</td>\n",
       "      <td>4193.190458</td>\n",
       "      <td>17612.998120</td>\n",
       "      <td>3</td>\n",
       "      <td>4</td>\n",
       "      <td>3</td>\n",
       "      <td>4</td>\n",
       "      <td>4</td>\n",
       "      <td>4</td>\n",
       "      <td>3</td>\n",
       "      <td>3</td>\n",
       "    </tr>\n",
       "    <tr>\n",
       "      <th>2</th>\n",
       "      <td>17125</td>\n",
       "      <td>Suburban</td>\n",
       "      <td>America/Chicago</td>\n",
       "      <td>3</td>\n",
       "      <td>53</td>\n",
       "      <td>14370.14</td>\n",
       "      <td>Widowed</td>\n",
       "      <td>Female</td>\n",
       "      <td>No</td>\n",
       "      <td>18.057507</td>\n",
       "      <td>4</td>\n",
       "      <td>1</td>\n",
       "      <td>0</td>\n",
       "      <td>Elective</td>\n",
       "      <td>Yes</td>\n",
       "      <td>No</td>\n",
       "      <td>Medium</td>\n",
       "      <td>Yes</td>\n",
       "      <td>No</td>\n",
       "      <td>Yes</td>\n",
       "      <td>No</td>\n",
       "      <td>No</td>\n",
       "      <td>No</td>\n",
       "      <td>No</td>\n",
       "      <td>No</td>\n",
       "      <td>No</td>\n",
       "      <td>Blood_Work</td>\n",
       "      <td>4.772177</td>\n",
       "      <td>2434.234222</td>\n",
       "      <td>17505.192460</td>\n",
       "      <td>2</td>\n",
       "      <td>4</td>\n",
       "      <td>4</td>\n",
       "      <td>4</td>\n",
       "      <td>3</td>\n",
       "      <td>4</td>\n",
       "      <td>3</td>\n",
       "      <td>3</td>\n",
       "    </tr>\n",
       "    <tr>\n",
       "      <th>3</th>\n",
       "      <td>2162</td>\n",
       "      <td>Suburban</td>\n",
       "      <td>America/Chicago</td>\n",
       "      <td>0</td>\n",
       "      <td>78</td>\n",
       "      <td>39741.49</td>\n",
       "      <td>Married</td>\n",
       "      <td>Male</td>\n",
       "      <td>No</td>\n",
       "      <td>16.576858</td>\n",
       "      <td>4</td>\n",
       "      <td>1</td>\n",
       "      <td>0</td>\n",
       "      <td>Elective</td>\n",
       "      <td>No</td>\n",
       "      <td>Yes</td>\n",
       "      <td>Medium</td>\n",
       "      <td>No</td>\n",
       "      <td>Yes</td>\n",
       "      <td>No</td>\n",
       "      <td>No</td>\n",
       "      <td>No</td>\n",
       "      <td>No</td>\n",
       "      <td>No</td>\n",
       "      <td>Yes</td>\n",
       "      <td>Yes</td>\n",
       "      <td>Blood_Work</td>\n",
       "      <td>1.714879</td>\n",
       "      <td>2127.830423</td>\n",
       "      <td>12993.437350</td>\n",
       "      <td>3</td>\n",
       "      <td>5</td>\n",
       "      <td>5</td>\n",
       "      <td>3</td>\n",
       "      <td>4</td>\n",
       "      <td>5</td>\n",
       "      <td>5</td>\n",
       "      <td>5</td>\n",
       "    </tr>\n",
       "    <tr>\n",
       "      <th>4</th>\n",
       "      <td>5287</td>\n",
       "      <td>Rural</td>\n",
       "      <td>America/New_York</td>\n",
       "      <td>1</td>\n",
       "      <td>22</td>\n",
       "      <td>1209.56</td>\n",
       "      <td>Widowed</td>\n",
       "      <td>Female</td>\n",
       "      <td>No</td>\n",
       "      <td>17.439069</td>\n",
       "      <td>5</td>\n",
       "      <td>0</td>\n",
       "      <td>2</td>\n",
       "      <td>Elective</td>\n",
       "      <td>No</td>\n",
       "      <td>No</td>\n",
       "      <td>Low</td>\n",
       "      <td>No</td>\n",
       "      <td>No</td>\n",
       "      <td>No</td>\n",
       "      <td>Yes</td>\n",
       "      <td>No</td>\n",
       "      <td>No</td>\n",
       "      <td>Yes</td>\n",
       "      <td>No</td>\n",
       "      <td>No</td>\n",
       "      <td>CT_Scan</td>\n",
       "      <td>1.254807</td>\n",
       "      <td>2113.073274</td>\n",
       "      <td>3716.525786</td>\n",
       "      <td>2</td>\n",
       "      <td>1</td>\n",
       "      <td>3</td>\n",
       "      <td>3</td>\n",
       "      <td>5</td>\n",
       "      <td>3</td>\n",
       "      <td>4</td>\n",
       "      <td>3</td>\n",
       "    </tr>\n",
       "  </tbody>\n",
       "</table>\n",
       "</div>"
      ],
      "text/plain": [
       "   Population      Area          TimeZone  Children  Age    Income   Marital  \\\n",
       "0        2951  Suburban   America/Chicago         1   53  86575.93  Divorced   \n",
       "1       11303     Urban   America/Chicago         3   51  46805.99   Married   \n",
       "2       17125  Suburban   America/Chicago         3   53  14370.14   Widowed   \n",
       "3        2162  Suburban   America/Chicago         0   78  39741.49   Married   \n",
       "4        5287     Rural  America/New_York         1   22   1209.56   Widowed   \n",
       "\n",
       "   Gender ReAdmis  VitD_levels  Doc_visits  Full_meals_eaten  vitD_supp  \\\n",
       "0    Male      No    19.141466           6                 0          0   \n",
       "1  Female      No    18.940352           4                 2          1   \n",
       "2  Female      No    18.057507           4                 1          0   \n",
       "3    Male      No    16.576858           4                 1          0   \n",
       "4  Female      No    17.439069           5                 0          2   \n",
       "\n",
       "  Initial_admin HighBlood Stroke Complication_risk Overweight Arthritis  \\\n",
       "0     Emergency       Yes     No            Medium         No       Yes   \n",
       "1     Emergency       Yes     No              High        Yes        No   \n",
       "2      Elective       Yes     No            Medium        Yes        No   \n",
       "3      Elective        No    Yes            Medium         No       Yes   \n",
       "4      Elective        No     No               Low         No        No   \n",
       "\n",
       "  Diabetes Hyperlipidemia BackPain Anxiety Allergic_rhinitis  \\\n",
       "0      Yes             No      Yes     Yes               Yes   \n",
       "1       No             No       No      No                No   \n",
       "2      Yes             No       No      No                No   \n",
       "3       No             No       No      No                No   \n",
       "4       No            Yes       No      No               Yes   \n",
       "\n",
       "  Reflux_esophagitis Asthma     Services  Initial_days  TotalCharge  \\\n",
       "0                 No    Yes   Blood_Work     10.585770  3726.702860   \n",
       "1                Yes     No  Intravenous     15.129562  4193.190458   \n",
       "2                 No     No   Blood_Work      4.772177  2434.234222   \n",
       "3                Yes    Yes   Blood_Work      1.714879  2127.830423   \n",
       "4                 No     No      CT_Scan      1.254807  2113.073274   \n",
       "\n",
       "   Additional_charges  Item1  Item2  Item3  Item4  Item5  Item6  Item7  Item8  \n",
       "0        17939.403420      3      3      2      2      4      3      3      4  \n",
       "1        17612.998120      3      4      3      4      4      4      3      3  \n",
       "2        17505.192460      2      4      4      4      3      4      3      3  \n",
       "3        12993.437350      3      5      5      3      4      5      5      5  \n",
       "4         3716.525786      2      1      3      3      5      3      4      3  "
      ]
     },
     "execution_count": 29,
     "metadata": {},
     "output_type": "execute_result"
    }
   ],
   "source": [
    "df.head()"
   ]
  },
  {
   "cell_type": "code",
   "execution_count": 30,
   "metadata": {},
   "outputs": [
    {
     "data": {
      "text/plain": [
       "(9252, 19)"
      ]
     },
     "execution_count": 30,
     "metadata": {},
     "output_type": "execute_result"
    }
   ],
   "source": [
    "categorical_data = df.select_dtypes(exclude=np.number)\n",
    "categorical_data.shape\n",
    "numerical_data = df.select_dtypes(include=np.number)\n",
    "numerical_data.shape"
   ]
  },
  {
   "cell_type": "code",
   "execution_count": 31,
   "metadata": {},
   "outputs": [
    {
     "data": {
      "text/plain": [
       "Index(['Area', 'TimeZone', 'Marital', 'Gender', 'ReAdmis', 'Initial_admin',\n",
       "       'HighBlood', 'Stroke', 'Complication_risk', 'Overweight', 'Arthritis',\n",
       "       'Diabetes', 'Hyperlipidemia', 'BackPain', 'Anxiety',\n",
       "       'Allergic_rhinitis', 'Reflux_esophagitis', 'Asthma', 'Services'],\n",
       "      dtype='object')"
      ]
     },
     "execution_count": 31,
     "metadata": {},
     "output_type": "execute_result"
    }
   ],
   "source": [
    "categorical_data.columns\n"
   ]
  },
  {
   "cell_type": "code",
   "execution_count": 32,
   "metadata": {},
   "outputs": [
    {
     "data": {
      "text/plain": [
       "Index(['Population', 'Children', 'Age', 'Income', 'VitD_levels', 'Doc_visits',\n",
       "       'Full_meals_eaten', 'vitD_supp', 'Initial_days', 'TotalCharge',\n",
       "       'Additional_charges', 'Item1', 'Item2', 'Item3', 'Item4', 'Item5',\n",
       "       'Item6', 'Item7', 'Item8'],\n",
       "      dtype='object')"
      ]
     },
     "execution_count": 32,
     "metadata": {},
     "output_type": "execute_result"
    }
   ],
   "source": [
    "numerical_data.columns"
   ]
  },
  {
   "cell_type": "code",
   "execution_count": 33,
   "metadata": {},
   "outputs": [
    {
     "data": {
      "text/html": [
       "<div>\n",
       "<style scoped>\n",
       "    .dataframe tbody tr th:only-of-type {\n",
       "        vertical-align: middle;\n",
       "    }\n",
       "\n",
       "    .dataframe tbody tr th {\n",
       "        vertical-align: top;\n",
       "    }\n",
       "\n",
       "    .dataframe thead th {\n",
       "        text-align: right;\n",
       "    }\n",
       "</style>\n",
       "<table border=\"1\" class=\"dataframe\">\n",
       "  <thead>\n",
       "    <tr style=\"text-align: right;\">\n",
       "      <th></th>\n",
       "      <th>Population</th>\n",
       "      <th>Children</th>\n",
       "      <th>Age</th>\n",
       "      <th>Income</th>\n",
       "      <th>VitD_levels</th>\n",
       "      <th>Doc_visits</th>\n",
       "      <th>Full_meals_eaten</th>\n",
       "      <th>vitD_supp</th>\n",
       "      <th>Initial_days</th>\n",
       "      <th>TotalCharge</th>\n",
       "      <th>Additional_charges</th>\n",
       "      <th>Item1</th>\n",
       "      <th>Item2</th>\n",
       "      <th>Item3</th>\n",
       "      <th>Item4</th>\n",
       "      <th>Item5</th>\n",
       "      <th>Item6</th>\n",
       "      <th>Item7</th>\n",
       "      <th>Item8</th>\n",
       "    </tr>\n",
       "  </thead>\n",
       "  <tbody>\n",
       "    <tr>\n",
       "      <th>0</th>\n",
       "      <td>2951</td>\n",
       "      <td>1</td>\n",
       "      <td>53</td>\n",
       "      <td>86575.93</td>\n",
       "      <td>19.141466</td>\n",
       "      <td>6</td>\n",
       "      <td>0</td>\n",
       "      <td>0</td>\n",
       "      <td>10.585770</td>\n",
       "      <td>3726.702860</td>\n",
       "      <td>17939.403420</td>\n",
       "      <td>3</td>\n",
       "      <td>3</td>\n",
       "      <td>2</td>\n",
       "      <td>2</td>\n",
       "      <td>4</td>\n",
       "      <td>3</td>\n",
       "      <td>3</td>\n",
       "      <td>4</td>\n",
       "    </tr>\n",
       "    <tr>\n",
       "      <th>1</th>\n",
       "      <td>11303</td>\n",
       "      <td>3</td>\n",
       "      <td>51</td>\n",
       "      <td>46805.99</td>\n",
       "      <td>18.940352</td>\n",
       "      <td>4</td>\n",
       "      <td>2</td>\n",
       "      <td>1</td>\n",
       "      <td>15.129562</td>\n",
       "      <td>4193.190458</td>\n",
       "      <td>17612.998120</td>\n",
       "      <td>3</td>\n",
       "      <td>4</td>\n",
       "      <td>3</td>\n",
       "      <td>4</td>\n",
       "      <td>4</td>\n",
       "      <td>4</td>\n",
       "      <td>3</td>\n",
       "      <td>3</td>\n",
       "    </tr>\n",
       "    <tr>\n",
       "      <th>2</th>\n",
       "      <td>17125</td>\n",
       "      <td>3</td>\n",
       "      <td>53</td>\n",
       "      <td>14370.14</td>\n",
       "      <td>18.057507</td>\n",
       "      <td>4</td>\n",
       "      <td>1</td>\n",
       "      <td>0</td>\n",
       "      <td>4.772177</td>\n",
       "      <td>2434.234222</td>\n",
       "      <td>17505.192460</td>\n",
       "      <td>2</td>\n",
       "      <td>4</td>\n",
       "      <td>4</td>\n",
       "      <td>4</td>\n",
       "      <td>3</td>\n",
       "      <td>4</td>\n",
       "      <td>3</td>\n",
       "      <td>3</td>\n",
       "    </tr>\n",
       "    <tr>\n",
       "      <th>3</th>\n",
       "      <td>2162</td>\n",
       "      <td>0</td>\n",
       "      <td>78</td>\n",
       "      <td>39741.49</td>\n",
       "      <td>16.576858</td>\n",
       "      <td>4</td>\n",
       "      <td>1</td>\n",
       "      <td>0</td>\n",
       "      <td>1.714879</td>\n",
       "      <td>2127.830423</td>\n",
       "      <td>12993.437350</td>\n",
       "      <td>3</td>\n",
       "      <td>5</td>\n",
       "      <td>5</td>\n",
       "      <td>3</td>\n",
       "      <td>4</td>\n",
       "      <td>5</td>\n",
       "      <td>5</td>\n",
       "      <td>5</td>\n",
       "    </tr>\n",
       "    <tr>\n",
       "      <th>4</th>\n",
       "      <td>5287</td>\n",
       "      <td>1</td>\n",
       "      <td>22</td>\n",
       "      <td>1209.56</td>\n",
       "      <td>17.439069</td>\n",
       "      <td>5</td>\n",
       "      <td>0</td>\n",
       "      <td>2</td>\n",
       "      <td>1.254807</td>\n",
       "      <td>2113.073274</td>\n",
       "      <td>3716.525786</td>\n",
       "      <td>2</td>\n",
       "      <td>1</td>\n",
       "      <td>3</td>\n",
       "      <td>3</td>\n",
       "      <td>5</td>\n",
       "      <td>3</td>\n",
       "      <td>4</td>\n",
       "      <td>3</td>\n",
       "    </tr>\n",
       "  </tbody>\n",
       "</table>\n",
       "</div>"
      ],
      "text/plain": [
       "   Population  Children  Age    Income  VitD_levels  Doc_visits  \\\n",
       "0        2951         1   53  86575.93    19.141466           6   \n",
       "1       11303         3   51  46805.99    18.940352           4   \n",
       "2       17125         3   53  14370.14    18.057507           4   \n",
       "3        2162         0   78  39741.49    16.576858           4   \n",
       "4        5287         1   22   1209.56    17.439069           5   \n",
       "\n",
       "   Full_meals_eaten  vitD_supp  Initial_days  TotalCharge  Additional_charges  \\\n",
       "0                 0          0     10.585770  3726.702860        17939.403420   \n",
       "1                 2          1     15.129562  4193.190458        17612.998120   \n",
       "2                 1          0      4.772177  2434.234222        17505.192460   \n",
       "3                 1          0      1.714879  2127.830423        12993.437350   \n",
       "4                 0          2      1.254807  2113.073274         3716.525786   \n",
       "\n",
       "   Item1  Item2  Item3  Item4  Item5  Item6  Item7  Item8  \n",
       "0      3      3      2      2      4      3      3      4  \n",
       "1      3      4      3      4      4      4      3      3  \n",
       "2      2      4      4      4      3      4      3      3  \n",
       "3      3      5      5      3      4      5      5      5  \n",
       "4      2      1      3      3      5      3      4      3  "
      ]
     },
     "execution_count": 33,
     "metadata": {},
     "output_type": "execute_result"
    }
   ],
   "source": [
    "numerical_data.head(5)"
   ]
  },
  {
   "cell_type": "code",
   "execution_count": null,
   "metadata": {},
   "outputs": [],
   "source": []
  },
  {
   "cell_type": "code",
   "execution_count": 34,
   "metadata": {},
   "outputs": [
    {
     "data": {
      "text/plain": [
       "(9252, 38)"
      ]
     },
     "execution_count": 34,
     "metadata": {},
     "output_type": "execute_result"
    }
   ],
   "source": [
    "df.shape"
   ]
  },
  {
   "cell_type": "markdown",
   "metadata": {},
   "source": [
    "Standardizing the data."
   ]
  },
  {
   "cell_type": "code",
   "execution_count": 35,
   "metadata": {},
   "outputs": [],
   "source": [
    "from sklearn.preprocessing import StandardScaler\n",
    "from sklearn import preprocessing\n",
    "\n",
    "num_cols = df.columns[df.dtypes.apply(lambda c: np.issubdtype(c, np.number))]\n",
    "# https://stackoverflow.com/questions/48673402/how-can-i-standardize-only-numeric-variables-in-an-sklearn-pipeline\n",
    "\n",
    "# Create the Scaler object\n",
    "# reA = pd.Series(df['ReAdmis']\n",
    "# st_df = numerical_data\n",
    "scaler = StandardScaler()\n",
    "\n",
    "# scaled_df = scaler.fit_transform(st_df)\n",
    "\n",
    "df[num_cols] = scaler.fit_transform(df[num_cols])\n",
    "#df.select_dtypes(include=np.number)"
   ]
  },
  {
   "cell_type": "code",
   "execution_count": 36,
   "metadata": {},
   "outputs": [
    {
     "data": {
      "text/plain": [
       "(9252, 38)"
      ]
     },
     "execution_count": 36,
     "metadata": {},
     "output_type": "execute_result"
    }
   ],
   "source": [
    "df.shape"
   ]
  },
  {
   "cell_type": "code",
   "execution_count": 37,
   "metadata": {},
   "outputs": [
    {
     "data": {
      "text/html": [
       "<div>\n",
       "<style scoped>\n",
       "    .dataframe tbody tr th:only-of-type {\n",
       "        vertical-align: middle;\n",
       "    }\n",
       "\n",
       "    .dataframe tbody tr th {\n",
       "        vertical-align: top;\n",
       "    }\n",
       "\n",
       "    .dataframe thead th {\n",
       "        text-align: right;\n",
       "    }\n",
       "</style>\n",
       "<table border=\"1\" class=\"dataframe\">\n",
       "  <thead>\n",
       "    <tr style=\"text-align: right;\">\n",
       "      <th></th>\n",
       "      <th>Population</th>\n",
       "      <th>Area</th>\n",
       "      <th>TimeZone</th>\n",
       "      <th>Children</th>\n",
       "      <th>Age</th>\n",
       "      <th>Income</th>\n",
       "      <th>Marital</th>\n",
       "      <th>Gender</th>\n",
       "      <th>ReAdmis</th>\n",
       "      <th>VitD_levels</th>\n",
       "      <th>Doc_visits</th>\n",
       "      <th>Full_meals_eaten</th>\n",
       "      <th>vitD_supp</th>\n",
       "      <th>Initial_admin</th>\n",
       "      <th>HighBlood</th>\n",
       "      <th>Stroke</th>\n",
       "      <th>Complication_risk</th>\n",
       "      <th>Overweight</th>\n",
       "      <th>Arthritis</th>\n",
       "      <th>Diabetes</th>\n",
       "      <th>Hyperlipidemia</th>\n",
       "      <th>BackPain</th>\n",
       "      <th>Anxiety</th>\n",
       "      <th>Allergic_rhinitis</th>\n",
       "      <th>Reflux_esophagitis</th>\n",
       "      <th>Asthma</th>\n",
       "      <th>Services</th>\n",
       "      <th>Initial_days</th>\n",
       "      <th>TotalCharge</th>\n",
       "      <th>Additional_charges</th>\n",
       "      <th>Item1</th>\n",
       "      <th>Item2</th>\n",
       "      <th>Item3</th>\n",
       "      <th>Item4</th>\n",
       "      <th>Item5</th>\n",
       "      <th>Item6</th>\n",
       "      <th>Item7</th>\n",
       "      <th>Item8</th>\n",
       "    </tr>\n",
       "  </thead>\n",
       "  <tbody>\n",
       "    <tr>\n",
       "      <th>0</th>\n",
       "      <td>-0.475916</td>\n",
       "      <td>Suburban</td>\n",
       "      <td>America/Chicago</td>\n",
       "      <td>-0.497265</td>\n",
       "      <td>-0.024941</td>\n",
       "      <td>1.879521</td>\n",
       "      <td>Divorced</td>\n",
       "      <td>Male</td>\n",
       "      <td>No</td>\n",
       "      <td>0.594656</td>\n",
       "      <td>0.947403</td>\n",
       "      <td>-1.012306</td>\n",
       "      <td>-0.645078</td>\n",
       "      <td>Emergency</td>\n",
       "      <td>Yes</td>\n",
       "      <td>No</td>\n",
       "      <td>Medium</td>\n",
       "      <td>No</td>\n",
       "      <td>Yes</td>\n",
       "      <td>Yes</td>\n",
       "      <td>No</td>\n",
       "      <td>Yes</td>\n",
       "      <td>Yes</td>\n",
       "      <td>Yes</td>\n",
       "      <td>No</td>\n",
       "      <td>Yes</td>\n",
       "      <td>Blood_Work</td>\n",
       "      <td>-0.904410</td>\n",
       "      <td>-0.724088</td>\n",
       "      <td>0.765677</td>\n",
       "      <td>-0.495254</td>\n",
       "      <td>-0.481819</td>\n",
       "      <td>-1.469542</td>\n",
       "      <td>-1.465406</td>\n",
       "      <td>0.494580</td>\n",
       "      <td>-0.502239</td>\n",
       "      <td>-0.484018</td>\n",
       "      <td>0.480089</td>\n",
       "    </tr>\n",
       "    <tr>\n",
       "      <th>1</th>\n",
       "      <td>0.216989</td>\n",
       "      <td>Urban</td>\n",
       "      <td>America/Chicago</td>\n",
       "      <td>0.555525</td>\n",
       "      <td>-0.121935</td>\n",
       "      <td>0.312032</td>\n",
       "      <td>Married</td>\n",
       "      <td>Female</td>\n",
       "      <td>No</td>\n",
       "      <td>0.493463</td>\n",
       "      <td>-0.974406</td>\n",
       "      <td>1.030856</td>\n",
       "      <td>1.062578</td>\n",
       "      <td>Emergency</td>\n",
       "      <td>Yes</td>\n",
       "      <td>No</td>\n",
       "      <td>High</td>\n",
       "      <td>Yes</td>\n",
       "      <td>No</td>\n",
       "      <td>No</td>\n",
       "      <td>No</td>\n",
       "      <td>No</td>\n",
       "      <td>No</td>\n",
       "      <td>No</td>\n",
       "      <td>Yes</td>\n",
       "      <td>No</td>\n",
       "      <td>Intravenous</td>\n",
       "      <td>-0.731800</td>\n",
       "      <td>-0.510241</td>\n",
       "      <td>0.715820</td>\n",
       "      <td>-0.495254</td>\n",
       "      <td>0.494482</td>\n",
       "      <td>-0.489212</td>\n",
       "      <td>0.475879</td>\n",
       "      <td>0.494580</td>\n",
       "      <td>0.473142</td>\n",
       "      <td>-0.484018</td>\n",
       "      <td>-0.488253</td>\n",
       "    </tr>\n",
       "    <tr>\n",
       "      <th>2</th>\n",
       "      <td>0.699999</td>\n",
       "      <td>Suburban</td>\n",
       "      <td>America/Chicago</td>\n",
       "      <td>0.555525</td>\n",
       "      <td>-0.024941</td>\n",
       "      <td>-0.966392</td>\n",
       "      <td>Widowed</td>\n",
       "      <td>Female</td>\n",
       "      <td>No</td>\n",
       "      <td>0.049247</td>\n",
       "      <td>-0.974406</td>\n",
       "      <td>0.009275</td>\n",
       "      <td>-0.645078</td>\n",
       "      <td>Elective</td>\n",
       "      <td>Yes</td>\n",
       "      <td>No</td>\n",
       "      <td>Medium</td>\n",
       "      <td>Yes</td>\n",
       "      <td>No</td>\n",
       "      <td>Yes</td>\n",
       "      <td>No</td>\n",
       "      <td>No</td>\n",
       "      <td>No</td>\n",
       "      <td>No</td>\n",
       "      <td>No</td>\n",
       "      <td>No</td>\n",
       "      <td>Blood_Work</td>\n",
       "      <td>-1.125258</td>\n",
       "      <td>-1.316580</td>\n",
       "      <td>0.699354</td>\n",
       "      <td>-1.475800</td>\n",
       "      <td>0.494482</td>\n",
       "      <td>0.491119</td>\n",
       "      <td>0.475879</td>\n",
       "      <td>-0.482123</td>\n",
       "      <td>0.473142</td>\n",
       "      <td>-0.484018</td>\n",
       "      <td>-0.488253</td>\n",
       "    </tr>\n",
       "    <tr>\n",
       "      <th>3</th>\n",
       "      <td>-0.541374</td>\n",
       "      <td>Suburban</td>\n",
       "      <td>America/Chicago</td>\n",
       "      <td>-1.023660</td>\n",
       "      <td>1.187493</td>\n",
       "      <td>0.033592</td>\n",
       "      <td>Married</td>\n",
       "      <td>Male</td>\n",
       "      <td>No</td>\n",
       "      <td>-0.695763</td>\n",
       "      <td>-0.974406</td>\n",
       "      <td>0.009275</td>\n",
       "      <td>-0.645078</td>\n",
       "      <td>Elective</td>\n",
       "      <td>No</td>\n",
       "      <td>Yes</td>\n",
       "      <td>Medium</td>\n",
       "      <td>No</td>\n",
       "      <td>Yes</td>\n",
       "      <td>No</td>\n",
       "      <td>No</td>\n",
       "      <td>No</td>\n",
       "      <td>No</td>\n",
       "      <td>No</td>\n",
       "      <td>Yes</td>\n",
       "      <td>Yes</td>\n",
       "      <td>Blood_Work</td>\n",
       "      <td>-1.241399</td>\n",
       "      <td>-1.457042</td>\n",
       "      <td>0.010210</td>\n",
       "      <td>-0.495254</td>\n",
       "      <td>1.470784</td>\n",
       "      <td>1.471449</td>\n",
       "      <td>-0.494763</td>\n",
       "      <td>0.494580</td>\n",
       "      <td>1.448523</td>\n",
       "      <td>1.497459</td>\n",
       "      <td>1.448431</td>\n",
       "    </tr>\n",
       "    <tr>\n",
       "      <th>4</th>\n",
       "      <td>-0.282115</td>\n",
       "      <td>Rural</td>\n",
       "      <td>America/New_York</td>\n",
       "      <td>-0.497265</td>\n",
       "      <td>-1.528358</td>\n",
       "      <td>-1.485102</td>\n",
       "      <td>Widowed</td>\n",
       "      <td>Female</td>\n",
       "      <td>No</td>\n",
       "      <td>-0.261929</td>\n",
       "      <td>-0.013502</td>\n",
       "      <td>-1.012306</td>\n",
       "      <td>2.770235</td>\n",
       "      <td>Elective</td>\n",
       "      <td>No</td>\n",
       "      <td>No</td>\n",
       "      <td>Low</td>\n",
       "      <td>No</td>\n",
       "      <td>No</td>\n",
       "      <td>No</td>\n",
       "      <td>Yes</td>\n",
       "      <td>No</td>\n",
       "      <td>No</td>\n",
       "      <td>Yes</td>\n",
       "      <td>No</td>\n",
       "      <td>No</td>\n",
       "      <td>CT_Scan</td>\n",
       "      <td>-1.258876</td>\n",
       "      <td>-1.463807</td>\n",
       "      <td>-1.406783</td>\n",
       "      <td>-1.475800</td>\n",
       "      <td>-2.434423</td>\n",
       "      <td>-0.489212</td>\n",
       "      <td>-0.494763</td>\n",
       "      <td>1.471284</td>\n",
       "      <td>-0.502239</td>\n",
       "      <td>0.506720</td>\n",
       "      <td>-0.488253</td>\n",
       "    </tr>\n",
       "  </tbody>\n",
       "</table>\n",
       "</div>"
      ],
      "text/plain": [
       "   Population      Area          TimeZone  Children       Age    Income  \\\n",
       "0   -0.475916  Suburban   America/Chicago -0.497265 -0.024941  1.879521   \n",
       "1    0.216989     Urban   America/Chicago  0.555525 -0.121935  0.312032   \n",
       "2    0.699999  Suburban   America/Chicago  0.555525 -0.024941 -0.966392   \n",
       "3   -0.541374  Suburban   America/Chicago -1.023660  1.187493  0.033592   \n",
       "4   -0.282115     Rural  America/New_York -0.497265 -1.528358 -1.485102   \n",
       "\n",
       "    Marital  Gender ReAdmis  VitD_levels  Doc_visits  Full_meals_eaten  \\\n",
       "0  Divorced    Male      No     0.594656    0.947403         -1.012306   \n",
       "1   Married  Female      No     0.493463   -0.974406          1.030856   \n",
       "2   Widowed  Female      No     0.049247   -0.974406          0.009275   \n",
       "3   Married    Male      No    -0.695763   -0.974406          0.009275   \n",
       "4   Widowed  Female      No    -0.261929   -0.013502         -1.012306   \n",
       "\n",
       "   vitD_supp Initial_admin HighBlood Stroke Complication_risk Overweight  \\\n",
       "0  -0.645078     Emergency       Yes     No            Medium         No   \n",
       "1   1.062578     Emergency       Yes     No              High        Yes   \n",
       "2  -0.645078      Elective       Yes     No            Medium        Yes   \n",
       "3  -0.645078      Elective        No    Yes            Medium         No   \n",
       "4   2.770235      Elective        No     No               Low         No   \n",
       "\n",
       "  Arthritis Diabetes Hyperlipidemia BackPain Anxiety Allergic_rhinitis  \\\n",
       "0       Yes      Yes             No      Yes     Yes               Yes   \n",
       "1        No       No             No       No      No                No   \n",
       "2        No      Yes             No       No      No                No   \n",
       "3       Yes       No             No       No      No                No   \n",
       "4        No       No            Yes       No      No               Yes   \n",
       "\n",
       "  Reflux_esophagitis Asthma     Services  Initial_days  TotalCharge  \\\n",
       "0                 No    Yes   Blood_Work     -0.904410    -0.724088   \n",
       "1                Yes     No  Intravenous     -0.731800    -0.510241   \n",
       "2                 No     No   Blood_Work     -1.125258    -1.316580   \n",
       "3                Yes    Yes   Blood_Work     -1.241399    -1.457042   \n",
       "4                 No     No      CT_Scan     -1.258876    -1.463807   \n",
       "\n",
       "   Additional_charges     Item1     Item2     Item3     Item4     Item5  \\\n",
       "0            0.765677 -0.495254 -0.481819 -1.469542 -1.465406  0.494580   \n",
       "1            0.715820 -0.495254  0.494482 -0.489212  0.475879  0.494580   \n",
       "2            0.699354 -1.475800  0.494482  0.491119  0.475879 -0.482123   \n",
       "3            0.010210 -0.495254  1.470784  1.471449 -0.494763  0.494580   \n",
       "4           -1.406783 -1.475800 -2.434423 -0.489212 -0.494763  1.471284   \n",
       "\n",
       "      Item6     Item7     Item8  \n",
       "0 -0.502239 -0.484018  0.480089  \n",
       "1  0.473142 -0.484018 -0.488253  \n",
       "2  0.473142 -0.484018 -0.488253  \n",
       "3  1.448523  1.497459  1.448431  \n",
       "4 -0.502239  0.506720 -0.488253  "
      ]
     },
     "execution_count": 37,
     "metadata": {},
     "output_type": "execute_result"
    }
   ],
   "source": [
    "df.head(5)"
   ]
  },
  {
   "cell_type": "code",
   "execution_count": 38,
   "metadata": {},
   "outputs": [],
   "source": [
    "# titles = st_df.columns\n",
    "# scaled_df = pd.DataFrame(scaled_df, columns = titles)\n",
    "# # df['ReAdmis'] = reA"
   ]
  },
  {
   "cell_type": "code",
   "execution_count": 39,
   "metadata": {},
   "outputs": [],
   "source": [
    "#scaled_df.describe()"
   ]
  },
  {
   "cell_type": "code",
   "execution_count": 40,
   "metadata": {},
   "outputs": [],
   "source": [
    "# scaled_df.head(5)"
   ]
  },
  {
   "cell_type": "code",
   "execution_count": 41,
   "metadata": {},
   "outputs": [
    {
     "data": {
      "text/plain": [
       "(9252, 19)"
      ]
     },
     "execution_count": 41,
     "metadata": {},
     "output_type": "execute_result"
    }
   ],
   "source": [
    "numerical_data = df.select_dtypes(include=np.number)\n",
    "numerical_data.shape"
   ]
  },
  {
   "cell_type": "code",
   "execution_count": 42,
   "metadata": {},
   "outputs": [],
   "source": [
    "numerical_data= pd.concat([numerical_data,df['Initial_admin']],axis=1)"
   ]
  },
  {
   "cell_type": "code",
   "execution_count": 43,
   "metadata": {},
   "outputs": [
    {
     "data": {
      "text/html": [
       "<div>\n",
       "<style scoped>\n",
       "    .dataframe tbody tr th:only-of-type {\n",
       "        vertical-align: middle;\n",
       "    }\n",
       "\n",
       "    .dataframe tbody tr th {\n",
       "        vertical-align: top;\n",
       "    }\n",
       "\n",
       "    .dataframe thead th {\n",
       "        text-align: right;\n",
       "    }\n",
       "</style>\n",
       "<table border=\"1\" class=\"dataframe\">\n",
       "  <thead>\n",
       "    <tr style=\"text-align: right;\">\n",
       "      <th></th>\n",
       "      <th>Population</th>\n",
       "      <th>Children</th>\n",
       "      <th>Age</th>\n",
       "      <th>Income</th>\n",
       "      <th>VitD_levels</th>\n",
       "      <th>Doc_visits</th>\n",
       "      <th>Full_meals_eaten</th>\n",
       "      <th>vitD_supp</th>\n",
       "      <th>Initial_days</th>\n",
       "      <th>TotalCharge</th>\n",
       "      <th>Additional_charges</th>\n",
       "      <th>Item1</th>\n",
       "      <th>Item2</th>\n",
       "      <th>Item3</th>\n",
       "      <th>Item4</th>\n",
       "      <th>Item5</th>\n",
       "      <th>Item6</th>\n",
       "      <th>Item7</th>\n",
       "      <th>Item8</th>\n",
       "      <th>Initial_admin</th>\n",
       "    </tr>\n",
       "  </thead>\n",
       "  <tbody>\n",
       "    <tr>\n",
       "      <th>0</th>\n",
       "      <td>-0.475916</td>\n",
       "      <td>-0.497265</td>\n",
       "      <td>-0.024941</td>\n",
       "      <td>1.879521</td>\n",
       "      <td>0.594656</td>\n",
       "      <td>0.947403</td>\n",
       "      <td>-1.012306</td>\n",
       "      <td>-0.645078</td>\n",
       "      <td>-0.904410</td>\n",
       "      <td>-0.724088</td>\n",
       "      <td>0.765677</td>\n",
       "      <td>-0.495254</td>\n",
       "      <td>-0.481819</td>\n",
       "      <td>-1.469542</td>\n",
       "      <td>-1.465406</td>\n",
       "      <td>0.494580</td>\n",
       "      <td>-0.502239</td>\n",
       "      <td>-0.484018</td>\n",
       "      <td>0.480089</td>\n",
       "      <td>Emergency</td>\n",
       "    </tr>\n",
       "    <tr>\n",
       "      <th>1</th>\n",
       "      <td>0.216989</td>\n",
       "      <td>0.555525</td>\n",
       "      <td>-0.121935</td>\n",
       "      <td>0.312032</td>\n",
       "      <td>0.493463</td>\n",
       "      <td>-0.974406</td>\n",
       "      <td>1.030856</td>\n",
       "      <td>1.062578</td>\n",
       "      <td>-0.731800</td>\n",
       "      <td>-0.510241</td>\n",
       "      <td>0.715820</td>\n",
       "      <td>-0.495254</td>\n",
       "      <td>0.494482</td>\n",
       "      <td>-0.489212</td>\n",
       "      <td>0.475879</td>\n",
       "      <td>0.494580</td>\n",
       "      <td>0.473142</td>\n",
       "      <td>-0.484018</td>\n",
       "      <td>-0.488253</td>\n",
       "      <td>Emergency</td>\n",
       "    </tr>\n",
       "    <tr>\n",
       "      <th>2</th>\n",
       "      <td>0.699999</td>\n",
       "      <td>0.555525</td>\n",
       "      <td>-0.024941</td>\n",
       "      <td>-0.966392</td>\n",
       "      <td>0.049247</td>\n",
       "      <td>-0.974406</td>\n",
       "      <td>0.009275</td>\n",
       "      <td>-0.645078</td>\n",
       "      <td>-1.125258</td>\n",
       "      <td>-1.316580</td>\n",
       "      <td>0.699354</td>\n",
       "      <td>-1.475800</td>\n",
       "      <td>0.494482</td>\n",
       "      <td>0.491119</td>\n",
       "      <td>0.475879</td>\n",
       "      <td>-0.482123</td>\n",
       "      <td>0.473142</td>\n",
       "      <td>-0.484018</td>\n",
       "      <td>-0.488253</td>\n",
       "      <td>Elective</td>\n",
       "    </tr>\n",
       "    <tr>\n",
       "      <th>3</th>\n",
       "      <td>-0.541374</td>\n",
       "      <td>-1.023660</td>\n",
       "      <td>1.187493</td>\n",
       "      <td>0.033592</td>\n",
       "      <td>-0.695763</td>\n",
       "      <td>-0.974406</td>\n",
       "      <td>0.009275</td>\n",
       "      <td>-0.645078</td>\n",
       "      <td>-1.241399</td>\n",
       "      <td>-1.457042</td>\n",
       "      <td>0.010210</td>\n",
       "      <td>-0.495254</td>\n",
       "      <td>1.470784</td>\n",
       "      <td>1.471449</td>\n",
       "      <td>-0.494763</td>\n",
       "      <td>0.494580</td>\n",
       "      <td>1.448523</td>\n",
       "      <td>1.497459</td>\n",
       "      <td>1.448431</td>\n",
       "      <td>Elective</td>\n",
       "    </tr>\n",
       "    <tr>\n",
       "      <th>4</th>\n",
       "      <td>-0.282115</td>\n",
       "      <td>-0.497265</td>\n",
       "      <td>-1.528358</td>\n",
       "      <td>-1.485102</td>\n",
       "      <td>-0.261929</td>\n",
       "      <td>-0.013502</td>\n",
       "      <td>-1.012306</td>\n",
       "      <td>2.770235</td>\n",
       "      <td>-1.258876</td>\n",
       "      <td>-1.463807</td>\n",
       "      <td>-1.406783</td>\n",
       "      <td>-1.475800</td>\n",
       "      <td>-2.434423</td>\n",
       "      <td>-0.489212</td>\n",
       "      <td>-0.494763</td>\n",
       "      <td>1.471284</td>\n",
       "      <td>-0.502239</td>\n",
       "      <td>0.506720</td>\n",
       "      <td>-0.488253</td>\n",
       "      <td>Elective</td>\n",
       "    </tr>\n",
       "  </tbody>\n",
       "</table>\n",
       "</div>"
      ],
      "text/plain": [
       "   Population  Children       Age    Income  VitD_levels  Doc_visits  \\\n",
       "0   -0.475916 -0.497265 -0.024941  1.879521     0.594656    0.947403   \n",
       "1    0.216989  0.555525 -0.121935  0.312032     0.493463   -0.974406   \n",
       "2    0.699999  0.555525 -0.024941 -0.966392     0.049247   -0.974406   \n",
       "3   -0.541374 -1.023660  1.187493  0.033592    -0.695763   -0.974406   \n",
       "4   -0.282115 -0.497265 -1.528358 -1.485102    -0.261929   -0.013502   \n",
       "\n",
       "   Full_meals_eaten  vitD_supp  Initial_days  TotalCharge  Additional_charges  \\\n",
       "0         -1.012306  -0.645078     -0.904410    -0.724088            0.765677   \n",
       "1          1.030856   1.062578     -0.731800    -0.510241            0.715820   \n",
       "2          0.009275  -0.645078     -1.125258    -1.316580            0.699354   \n",
       "3          0.009275  -0.645078     -1.241399    -1.457042            0.010210   \n",
       "4         -1.012306   2.770235     -1.258876    -1.463807           -1.406783   \n",
       "\n",
       "      Item1     Item2     Item3     Item4     Item5     Item6     Item7  \\\n",
       "0 -0.495254 -0.481819 -1.469542 -1.465406  0.494580 -0.502239 -0.484018   \n",
       "1 -0.495254  0.494482 -0.489212  0.475879  0.494580  0.473142 -0.484018   \n",
       "2 -1.475800  0.494482  0.491119  0.475879 -0.482123  0.473142 -0.484018   \n",
       "3 -0.495254  1.470784  1.471449 -0.494763  0.494580  1.448523  1.497459   \n",
       "4 -1.475800 -2.434423 -0.489212 -0.494763  1.471284 -0.502239  0.506720   \n",
       "\n",
       "      Item8 Initial_admin  \n",
       "0  0.480089     Emergency  \n",
       "1 -0.488253     Emergency  \n",
       "2 -0.488253      Elective  \n",
       "3  1.448431      Elective  \n",
       "4 -0.488253      Elective  "
      ]
     },
     "execution_count": 43,
     "metadata": {},
     "output_type": "execute_result"
    }
   ],
   "source": [
    "numerical_data.head(5)"
   ]
  },
  {
   "cell_type": "code",
   "execution_count": 44,
   "metadata": {},
   "outputs": [
    {
     "data": {
      "text/plain": [
       "(9252, 20)"
      ]
     },
     "execution_count": 44,
     "metadata": {},
     "output_type": "execute_result"
    }
   ],
   "source": [
    "numerical_data.shape"
   ]
  },
  {
   "cell_type": "markdown",
   "metadata": {},
   "source": [
    "This model only uses numerical data that has been standardized and had outliers removed"
   ]
  },
  {
   "cell_type": "code",
   "execution_count": 45,
   "metadata": {},
   "outputs": [],
   "source": [
    "#numerical_data= pd.concat([numerical_data,df['Initial_admin']],axis=1)\n",
    "#numerical_data = pd.merge(numerical_data, df['Initial_admin'], how=\"left\")\n",
    " \n",
    "from sklearn.model_selection import train_test_split\n",
    "train , test = train_test_split(numerical_data, test_size = 0.25)\n",
    "\n",
    "x_train = train.drop('Initial_admin', axis=1)\n",
    "y_train = train['Initial_admin']\n",
    "\n",
    "x_test = test.drop('Initial_admin', axis = 1)\n",
    "y_test = test['Initial_admin']"
   ]
  },
  {
   "cell_type": "code",
   "execution_count": 46,
   "metadata": {},
   "outputs": [
    {
     "data": {
      "text/plain": [
       "KNeighborsClassifier(n_neighbors=10)"
      ]
     },
     "execution_count": 46,
     "metadata": {},
     "output_type": "execute_result"
    }
   ],
   "source": [
    "from sklearn.neighbors import KNeighborsClassifier\n",
    "knn = KNeighborsClassifier(n_neighbors=10, weights='uniform')\n",
    "knn.fit(x_train, y_train)"
   ]
  },
  {
   "cell_type": "code",
   "execution_count": 47,
   "metadata": {},
   "outputs": [
    {
     "name": "stdout",
     "output_type": "stream",
     "text": [
      "0.4492001729355815\n"
     ]
    }
   ],
   "source": [
    "print(knn.score(x_test, y_test))"
   ]
  },
  {
   "cell_type": "code",
   "execution_count": 48,
   "metadata": {},
   "outputs": [],
   "source": [
    "y_pred = knn.predict(x_test)"
   ]
  },
  {
   "cell_type": "code",
   "execution_count": 49,
   "metadata": {},
   "outputs": [
    {
     "data": {
      "text/html": [
       "<div>\n",
       "<style scoped>\n",
       "    .dataframe tbody tr th:only-of-type {\n",
       "        vertical-align: middle;\n",
       "    }\n",
       "\n",
       "    .dataframe tbody tr th {\n",
       "        vertical-align: top;\n",
       "    }\n",
       "\n",
       "    .dataframe thead th {\n",
       "        text-align: right;\n",
       "    }\n",
       "</style>\n",
       "<table border=\"1\" class=\"dataframe\">\n",
       "  <thead>\n",
       "    <tr style=\"text-align: right;\">\n",
       "      <th></th>\n",
       "      <th>Predicted</th>\n",
       "      <th>Actual</th>\n",
       "    </tr>\n",
       "  </thead>\n",
       "  <tbody>\n",
       "    <tr>\n",
       "      <th>3041</th>\n",
       "      <td>Emergency</td>\n",
       "      <td>Emergency</td>\n",
       "    </tr>\n",
       "    <tr>\n",
       "      <th>1501</th>\n",
       "      <td>Emergency</td>\n",
       "      <td>Emergency</td>\n",
       "    </tr>\n",
       "    <tr>\n",
       "      <th>4836</th>\n",
       "      <td>Emergency</td>\n",
       "      <td>Emergency</td>\n",
       "    </tr>\n",
       "    <tr>\n",
       "      <th>2154</th>\n",
       "      <td>Emergency</td>\n",
       "      <td>Emergency</td>\n",
       "    </tr>\n",
       "    <tr>\n",
       "      <th>5668</th>\n",
       "      <td>Elective</td>\n",
       "      <td>Observation</td>\n",
       "    </tr>\n",
       "    <tr>\n",
       "      <th>9426</th>\n",
       "      <td>Emergency</td>\n",
       "      <td>Elective</td>\n",
       "    </tr>\n",
       "    <tr>\n",
       "      <th>5180</th>\n",
       "      <td>Emergency</td>\n",
       "      <td>Elective</td>\n",
       "    </tr>\n",
       "    <tr>\n",
       "      <th>3536</th>\n",
       "      <td>Observation</td>\n",
       "      <td>Elective</td>\n",
       "    </tr>\n",
       "    <tr>\n",
       "      <th>7159</th>\n",
       "      <td>Emergency</td>\n",
       "      <td>Emergency</td>\n",
       "    </tr>\n",
       "    <tr>\n",
       "      <th>4042</th>\n",
       "      <td>Emergency</td>\n",
       "      <td>Observation</td>\n",
       "    </tr>\n",
       "    <tr>\n",
       "      <th>1016</th>\n",
       "      <td>Emergency</td>\n",
       "      <td>Elective</td>\n",
       "    </tr>\n",
       "    <tr>\n",
       "      <th>4010</th>\n",
       "      <td>Emergency</td>\n",
       "      <td>Observation</td>\n",
       "    </tr>\n",
       "    <tr>\n",
       "      <th>1177</th>\n",
       "      <td>Emergency</td>\n",
       "      <td>Observation</td>\n",
       "    </tr>\n",
       "    <tr>\n",
       "      <th>3744</th>\n",
       "      <td>Observation</td>\n",
       "      <td>Elective</td>\n",
       "    </tr>\n",
       "    <tr>\n",
       "      <th>7006</th>\n",
       "      <td>Emergency</td>\n",
       "      <td>Emergency</td>\n",
       "    </tr>\n",
       "  </tbody>\n",
       "</table>\n",
       "</div>"
      ],
      "text/plain": [
       "        Predicted       Actual\n",
       "3041    Emergency    Emergency\n",
       "1501    Emergency    Emergency\n",
       "4836    Emergency    Emergency\n",
       "2154    Emergency    Emergency\n",
       "5668     Elective  Observation\n",
       "9426    Emergency     Elective\n",
       "5180    Emergency     Elective\n",
       "3536  Observation     Elective\n",
       "7159    Emergency    Emergency\n",
       "4042    Emergency  Observation\n",
       "1016    Emergency     Elective\n",
       "4010    Emergency  Observation\n",
       "1177    Emergency  Observation\n",
       "3744  Observation     Elective\n",
       "7006    Emergency    Emergency"
      ]
     },
     "execution_count": 49,
     "metadata": {},
     "output_type": "execute_result"
    }
   ],
   "source": [
    "pd.DataFrame(data={'Predicted': y_pred, 'Actual': y_test}).head(15)"
   ]
  },
  {
   "cell_type": "code",
   "execution_count": 50,
   "metadata": {},
   "outputs": [
    {
     "name": "stdout",
     "output_type": "stream",
     "text": [
      "0.4492001729355815\n"
     ]
    }
   ],
   "source": [
    "from sklearn.metrics import accuracy_score\n",
    "# print ('accuracy =', metrics.accuracy_score(y_test, y_pred))\n",
    "accuracy = accuracy_score(y_test, y_pred)\n",
    "print(accuracy)"
   ]
  },
  {
   "cell_type": "code",
   "execution_count": 51,
   "metadata": {},
   "outputs": [
    {
     "data": {
      "text/plain": [
       "0.4492001729355815"
      ]
     },
     "execution_count": 51,
     "metadata": {},
     "output_type": "execute_result"
    }
   ],
   "source": [
    "from sklearn.metrics import recall_score\n",
    "recall_score(y_test, y_pred, average='micro' )"
   ]
  },
  {
   "cell_type": "code",
   "execution_count": 52,
   "metadata": {},
   "outputs": [
    {
     "data": {
      "text/plain": [
       "0.4492001729355815"
      ]
     },
     "execution_count": 52,
     "metadata": {},
     "output_type": "execute_result"
    }
   ],
   "source": [
    "from sklearn.metrics import precision_score\n",
    "precision_score(y_test, y_pred,  average='micro')"
   ]
  },
  {
   "cell_type": "code",
   "execution_count": 53,
   "metadata": {},
   "outputs": [
    {
     "data": {
      "text/plain": [
       "0.4492001729355815"
      ]
     },
     "execution_count": 53,
     "metadata": {},
     "output_type": "execute_result"
    }
   ],
   "source": [
    "from sklearn.metrics import f1_score\n",
    "f1_score(y_test, y_pred,  average='micro')"
   ]
  },
  {
   "cell_type": "code",
   "execution_count": 54,
   "metadata": {},
   "outputs": [
    {
     "name": "stdout",
     "output_type": "stream",
     "text": [
      "              precision    recall  f1-score   support\n",
      "\n",
      "    Elective       0.25      0.15      0.19       595\n",
      "   Emergency       0.51      0.77      0.62      1172\n",
      " Observation       0.24      0.09      0.13       546\n",
      "\n",
      "    accuracy                           0.45      2313\n",
      "   macro avg       0.34      0.34      0.31      2313\n",
      "weighted avg       0.38      0.45      0.39      2313\n",
      "\n"
     ]
    }
   ],
   "source": [
    "from sklearn.metrics import classification_report\n",
    "print(classification_report(y_test, y_pred))"
   ]
  },
  {
   "cell_type": "code",
   "execution_count": 55,
   "metadata": {},
   "outputs": [
    {
     "data": {
      "text/plain": [
       "<matplotlib.axes._subplots.AxesSubplot at 0x22fda2bca00>"
      ]
     },
     "execution_count": 55,
     "metadata": {},
     "output_type": "execute_result"
    },
    {
     "data": {
      "image/png": "[encoded data removed]",
      "text/plain": [
       "<Figure size 720x576 with 1 Axes>"
      ]
     },
     "metadata": {
      "needs_background": "light"
     },
     "output_type": "display_data"
    }
   ],
   "source": [
    "import scikitplot as skplt\n",
    "y_probas=knn.predict_proba(x_test)\n",
    "skplt.metrics.plot_roc(y_test, y_probas, figsize=(10, 8))"
   ]
  },
  {
   "cell_type": "markdown",
   "metadata": {},
   "source": [
    "AUC for multi-class\n",
    "\n",
    "multi_class {‘raise’, ‘ovr’, ‘ovo’}, default=’raise’\n",
    "\n",
    "Multiclass only. Determines the type of configuration to use. The default value raises an error, so either 'ovr' or 'ovo' must be passed explicitly.\n",
    "\n",
    "'ovr':\n",
    "\n",
    "Computes the AUC of each class against the rest [3] [4]. This treats the multiclass case in the same way as the multilabel case. Sensitive to class imbalance even when average == 'macro', because class imbalance affects the composition of each of the ‘rest’ groupings.\n",
    "\n",
    "'ovo':\n",
    "\n",
    "Computes the average AUC of all possible pairwise combinations of classes [5]. Insensitive to class imbalance when average == 'macro'."
   ]
  },
  {
   "cell_type": "code",
   "execution_count": 56,
   "metadata": {},
   "outputs": [],
   "source": [
    "#https://medium.com/@plog397/auc-roc-curve-scoring-function-for-multi-class-classification-9822871a6659\n",
    "from sklearn import preprocessing\n",
    "from sklearn.metrics import roc_auc_score\n",
    "# probs = y_probas[:, 1]\n",
    "# print ('ROC AUC =', roc_auc_score(y_test, probs, multi_class='ovo'))\n",
    "\n",
    "def multiclass_roc_auc_score(y_test, y_pred, average=\"macro\"):\n",
    "    lb = preprocessing.LabelBinarizer()\n",
    "    lb.fit(y_test)\n",
    "    y_test = lb.transform(y_test)\n",
    "    y_pred = lb.transform(y_pred)\n",
    "    return roc_auc_score(y_test, y_pred, average=average)"
   ]
  },
  {
   "cell_type": "code",
   "execution_count": 57,
   "metadata": {},
   "outputs": [
    {
     "data": {
      "text/plain": [
       "0.5035838133042777"
      ]
     },
     "execution_count": 57,
     "metadata": {},
     "output_type": "execute_result"
    }
   ],
   "source": [
    "multiclass_roc_auc_score(y_test, y_pred)"
   ]
  },
  {
   "cell_type": "markdown",
   "metadata": {},
   "source": [
    "AUC\n",
    "\n",
    "What does AUC measure?\n",
    "AUC stands for \"Area under the ROC Curve.\" That is, AUC measures the entire two-dimensional area underneath the entire ROC curve (think integral calculus) from (0,0) to (1,1). Figure 5. AUC (Area under the ROC Curve). AUC provides an aggregate measure of performance across all possible classification thresholds"
   ]
  },
  {
   "cell_type": "code",
   "execution_count": null,
   "metadata": {},
   "outputs": [],
   "source": []
  },
  {
   "cell_type": "code",
   "execution_count": null,
   "metadata": {},
   "outputs": [],
   "source": []
  },
  {
   "cell_type": "markdown",
   "metadata": {},
   "source": [
    "Categorical variables, create dummies and hot encoding"
   ]
  },
  {
   "cell_type": "code",
   "execution_count": 58,
   "metadata": {},
   "outputs": [],
   "source": [
    "df = pd.concat([df, pd.get_dummies(df['Area'], prefix='Area' , drop_first=False)], axis=1)\n",
    "df = pd.concat([df, pd.get_dummies(df['Marital'], prefix='Marital', drop_first=False)], axis=1)\n",
    "df = pd.concat([df, pd.get_dummies(df['Gender'], prefix='Gender', drop_first=False)], axis=1)\n",
    "#df = pd.concat([df, pd.get_dummies(df['Initial_admin'], prefix='Initial_admin', drop_first=False)], axis=1)\n",
    "df = pd.concat([df, pd.get_dummies(df['Complication_risk'], prefix='Complication_risk', drop_first=False)], axis=1)\n",
    "df = pd.concat([df, pd.get_dummies(df['Services'], prefix='Services', drop_first=False)], axis=1)\n",
    "df = pd.concat([df, pd.get_dummies(df['ReAdmis'], prefix='ReAdmis', drop_first=False)], axis=1)\n",
    "#, drop_first=True\n",
    "\n",
    "#for KNN, create K dummies instead of K-1\n",
    "# (https://www.listendata.com/2017/12/k-nearest-neighbor-step-by-step-tutorial.html)"
   ]
  },
  {
   "cell_type": "code",
   "execution_count": 59,
   "metadata": {},
   "outputs": [],
   "source": [
    "# why am i dropping the hot encoded categorical variables? it should be the 1-0 values\n",
    "\n",
    "df.drop(['Area'],axis=1, inplace=True)\n",
    "df.drop(['Marital'],axis=1, inplace=True)\n",
    "df.drop(['Gender'],axis=1, inplace=True)\n",
    "#df.drop(['Initial_admin'],axis=1, inplace=True)\n",
    "df.drop(['Complication_risk'],axis=1, inplace=True)\n",
    "df.drop(['Services'],axis=1, inplace=True)\n",
    "df.drop(['TimeZone'], axis=1, inplace=True)\n",
    "df.drop(['ReAdmis'], axis=1, inplace=True)"
   ]
  },
  {
   "cell_type": "code",
   "execution_count": 60,
   "metadata": {},
   "outputs": [],
   "source": [
    "df.drop(['HighBlood'],axis=1, inplace=True)\n",
    "df.drop(['Stroke'],axis=1, inplace=True)\n",
    "df.drop(['Overweight'],axis=1, inplace=True)\n",
    "df.drop(['Arthritis'],axis=1, inplace=True)\n",
    "df.drop(['Diabetes'],axis=1, inplace=True)\n",
    "df.drop(['Hyperlipidemia'],axis=1, inplace=True)\n",
    "df.drop(['BackPain'], axis=1, inplace=True)\n",
    "df.drop(['Anxiety'], axis=1, inplace=True)\n",
    "df.drop(['Allergic_rhinitis'],axis=1, inplace=True)\n",
    "df.drop(['Reflux_esophagitis'], axis=1, inplace=True)\n",
    "df.drop(['Asthma'], axis=1, inplace=True)"
   ]
  },
  {
   "cell_type": "markdown",
   "metadata": {},
   "source": [
    "Now replacing Yes/No with 1 or 0"
   ]
  },
  {
   "cell_type": "code",
   "execution_count": 61,
   "metadata": {},
   "outputs": [],
   "source": [
    "# #df['ReAdmis']=df.ReAdmis.map(dict(Yes=1, No=0))\n",
    "# df['HighBlood']=df.HighBlood.map(dict(Yes=1, No=0))\n",
    "# df['Stroke']=df.Stroke.map(dict(Yes=1, No=0))\n",
    "# df['Overweight']=df.Overweight.map(dict(Yes=1, No=0))\n",
    "# df['Arthritis']=df.Arthritis.map(dict(Yes=1, No=0))\n",
    "# df['Diabetes']=df.Diabetes.map(dict(Yes=1, No=0))\n",
    "# df['Hyperlipidemia']=df.Hyperlipidemia.map(dict(Yes=1, No=0))\n",
    "# df['BackPain']=df.BackPain.map(dict(Yes=1, No=0))\n",
    "# df['Anxiety']=df.Anxiety.map(dict(Yes=1, No=0))\n",
    "# df['Allergic_rhinitis']=df.Allergic_rhinitis.map(dict(Yes=1, No=0))\n",
    "# df['Reflux_esophagitis']=df.Reflux_esophagitis.map(dict(Yes=1, No=0))\n",
    "# df['Asthma']=df.Asthma.map(dict(Yes=1, No=0))"
   ]
  },
  {
   "cell_type": "code",
   "execution_count": 62,
   "metadata": {},
   "outputs": [
    {
     "data": {
      "text/plain": [
       "(9252, 40)"
      ]
     },
     "execution_count": 62,
     "metadata": {},
     "output_type": "execute_result"
    }
   ],
   "source": [
    "df.shape"
   ]
  },
  {
   "cell_type": "code",
   "execution_count": 63,
   "metadata": {},
   "outputs": [
    {
     "data": {
      "text/html": [
       "<div>\n",
       "<style scoped>\n",
       "    .dataframe tbody tr th:only-of-type {\n",
       "        vertical-align: middle;\n",
       "    }\n",
       "\n",
       "    .dataframe tbody tr th {\n",
       "        vertical-align: top;\n",
       "    }\n",
       "\n",
       "    .dataframe thead th {\n",
       "        text-align: right;\n",
       "    }\n",
       "</style>\n",
       "<table border=\"1\" class=\"dataframe\">\n",
       "  <thead>\n",
       "    <tr style=\"text-align: right;\">\n",
       "      <th></th>\n",
       "      <th>Population</th>\n",
       "      <th>Children</th>\n",
       "      <th>Age</th>\n",
       "      <th>Income</th>\n",
       "      <th>VitD_levels</th>\n",
       "      <th>Doc_visits</th>\n",
       "      <th>Full_meals_eaten</th>\n",
       "      <th>vitD_supp</th>\n",
       "      <th>Initial_admin</th>\n",
       "      <th>Initial_days</th>\n",
       "      <th>TotalCharge</th>\n",
       "      <th>Additional_charges</th>\n",
       "      <th>Item1</th>\n",
       "      <th>Item2</th>\n",
       "      <th>Item3</th>\n",
       "      <th>Item4</th>\n",
       "      <th>Item5</th>\n",
       "      <th>Item6</th>\n",
       "      <th>Item7</th>\n",
       "      <th>Item8</th>\n",
       "      <th>Area_Rural</th>\n",
       "      <th>Area_Suburban</th>\n",
       "      <th>Area_Urban</th>\n",
       "      <th>Marital_Divorced</th>\n",
       "      <th>Marital_Married</th>\n",
       "      <th>Marital_Never_Married</th>\n",
       "      <th>Marital_Separated</th>\n",
       "      <th>Marital_Widowed</th>\n",
       "      <th>Gender_Female</th>\n",
       "      <th>Gender_Male</th>\n",
       "      <th>Gender_Nonbinary</th>\n",
       "      <th>Complication_risk_High</th>\n",
       "      <th>Complication_risk_Low</th>\n",
       "      <th>Complication_risk_Medium</th>\n",
       "      <th>Services_Blood_Work</th>\n",
       "      <th>Services_CT_Scan</th>\n",
       "      <th>Services_Intravenous</th>\n",
       "      <th>Services_MRI</th>\n",
       "      <th>ReAdmis_No</th>\n",
       "      <th>ReAdmis_Yes</th>\n",
       "    </tr>\n",
       "  </thead>\n",
       "  <tbody>\n",
       "    <tr>\n",
       "      <th>0</th>\n",
       "      <td>-0.475916</td>\n",
       "      <td>-0.497265</td>\n",
       "      <td>-0.024941</td>\n",
       "      <td>1.879521</td>\n",
       "      <td>0.594656</td>\n",
       "      <td>0.947403</td>\n",
       "      <td>-1.012306</td>\n",
       "      <td>-0.645078</td>\n",
       "      <td>Emergency</td>\n",
       "      <td>-0.904410</td>\n",
       "      <td>-0.724088</td>\n",
       "      <td>0.765677</td>\n",
       "      <td>-0.495254</td>\n",
       "      <td>-0.481819</td>\n",
       "      <td>-1.469542</td>\n",
       "      <td>-1.465406</td>\n",
       "      <td>0.494580</td>\n",
       "      <td>-0.502239</td>\n",
       "      <td>-0.484018</td>\n",
       "      <td>0.480089</td>\n",
       "      <td>0</td>\n",
       "      <td>1</td>\n",
       "      <td>0</td>\n",
       "      <td>1</td>\n",
       "      <td>0</td>\n",
       "      <td>0</td>\n",
       "      <td>0</td>\n",
       "      <td>0</td>\n",
       "      <td>0</td>\n",
       "      <td>1</td>\n",
       "      <td>0</td>\n",
       "      <td>0</td>\n",
       "      <td>0</td>\n",
       "      <td>1</td>\n",
       "      <td>1</td>\n",
       "      <td>0</td>\n",
       "      <td>0</td>\n",
       "      <td>0</td>\n",
       "      <td>1</td>\n",
       "      <td>0</td>\n",
       "    </tr>\n",
       "    <tr>\n",
       "      <th>1</th>\n",
       "      <td>0.216989</td>\n",
       "      <td>0.555525</td>\n",
       "      <td>-0.121935</td>\n",
       "      <td>0.312032</td>\n",
       "      <td>0.493463</td>\n",
       "      <td>-0.974406</td>\n",
       "      <td>1.030856</td>\n",
       "      <td>1.062578</td>\n",
       "      <td>Emergency</td>\n",
       "      <td>-0.731800</td>\n",
       "      <td>-0.510241</td>\n",
       "      <td>0.715820</td>\n",
       "      <td>-0.495254</td>\n",
       "      <td>0.494482</td>\n",
       "      <td>-0.489212</td>\n",
       "      <td>0.475879</td>\n",
       "      <td>0.494580</td>\n",
       "      <td>0.473142</td>\n",
       "      <td>-0.484018</td>\n",
       "      <td>-0.488253</td>\n",
       "      <td>0</td>\n",
       "      <td>0</td>\n",
       "      <td>1</td>\n",
       "      <td>0</td>\n",
       "      <td>1</td>\n",
       "      <td>0</td>\n",
       "      <td>0</td>\n",
       "      <td>0</td>\n",
       "      <td>1</td>\n",
       "      <td>0</td>\n",
       "      <td>0</td>\n",
       "      <td>1</td>\n",
       "      <td>0</td>\n",
       "      <td>0</td>\n",
       "      <td>0</td>\n",
       "      <td>0</td>\n",
       "      <td>1</td>\n",
       "      <td>0</td>\n",
       "      <td>1</td>\n",
       "      <td>0</td>\n",
       "    </tr>\n",
       "    <tr>\n",
       "      <th>2</th>\n",
       "      <td>0.699999</td>\n",
       "      <td>0.555525</td>\n",
       "      <td>-0.024941</td>\n",
       "      <td>-0.966392</td>\n",
       "      <td>0.049247</td>\n",
       "      <td>-0.974406</td>\n",
       "      <td>0.009275</td>\n",
       "      <td>-0.645078</td>\n",
       "      <td>Elective</td>\n",
       "      <td>-1.125258</td>\n",
       "      <td>-1.316580</td>\n",
       "      <td>0.699354</td>\n",
       "      <td>-1.475800</td>\n",
       "      <td>0.494482</td>\n",
       "      <td>0.491119</td>\n",
       "      <td>0.475879</td>\n",
       "      <td>-0.482123</td>\n",
       "      <td>0.473142</td>\n",
       "      <td>-0.484018</td>\n",
       "      <td>-0.488253</td>\n",
       "      <td>0</td>\n",
       "      <td>1</td>\n",
       "      <td>0</td>\n",
       "      <td>0</td>\n",
       "      <td>0</td>\n",
       "      <td>0</td>\n",
       "      <td>0</td>\n",
       "      <td>1</td>\n",
       "      <td>1</td>\n",
       "      <td>0</td>\n",
       "      <td>0</td>\n",
       "      <td>0</td>\n",
       "      <td>0</td>\n",
       "      <td>1</td>\n",
       "      <td>1</td>\n",
       "      <td>0</td>\n",
       "      <td>0</td>\n",
       "      <td>0</td>\n",
       "      <td>1</td>\n",
       "      <td>0</td>\n",
       "    </tr>\n",
       "    <tr>\n",
       "      <th>3</th>\n",
       "      <td>-0.541374</td>\n",
       "      <td>-1.023660</td>\n",
       "      <td>1.187493</td>\n",
       "      <td>0.033592</td>\n",
       "      <td>-0.695763</td>\n",
       "      <td>-0.974406</td>\n",
       "      <td>0.009275</td>\n",
       "      <td>-0.645078</td>\n",
       "      <td>Elective</td>\n",
       "      <td>-1.241399</td>\n",
       "      <td>-1.457042</td>\n",
       "      <td>0.010210</td>\n",
       "      <td>-0.495254</td>\n",
       "      <td>1.470784</td>\n",
       "      <td>1.471449</td>\n",
       "      <td>-0.494763</td>\n",
       "      <td>0.494580</td>\n",
       "      <td>1.448523</td>\n",
       "      <td>1.497459</td>\n",
       "      <td>1.448431</td>\n",
       "      <td>0</td>\n",
       "      <td>1</td>\n",
       "      <td>0</td>\n",
       "      <td>0</td>\n",
       "      <td>1</td>\n",
       "      <td>0</td>\n",
       "      <td>0</td>\n",
       "      <td>0</td>\n",
       "      <td>0</td>\n",
       "      <td>1</td>\n",
       "      <td>0</td>\n",
       "      <td>0</td>\n",
       "      <td>0</td>\n",
       "      <td>1</td>\n",
       "      <td>1</td>\n",
       "      <td>0</td>\n",
       "      <td>0</td>\n",
       "      <td>0</td>\n",
       "      <td>1</td>\n",
       "      <td>0</td>\n",
       "    </tr>\n",
       "    <tr>\n",
       "      <th>4</th>\n",
       "      <td>-0.282115</td>\n",
       "      <td>-0.497265</td>\n",
       "      <td>-1.528358</td>\n",
       "      <td>-1.485102</td>\n",
       "      <td>-0.261929</td>\n",
       "      <td>-0.013502</td>\n",
       "      <td>-1.012306</td>\n",
       "      <td>2.770235</td>\n",
       "      <td>Elective</td>\n",
       "      <td>-1.258876</td>\n",
       "      <td>-1.463807</td>\n",
       "      <td>-1.406783</td>\n",
       "      <td>-1.475800</td>\n",
       "      <td>-2.434423</td>\n",
       "      <td>-0.489212</td>\n",
       "      <td>-0.494763</td>\n",
       "      <td>1.471284</td>\n",
       "      <td>-0.502239</td>\n",
       "      <td>0.506720</td>\n",
       "      <td>-0.488253</td>\n",
       "      <td>1</td>\n",
       "      <td>0</td>\n",
       "      <td>0</td>\n",
       "      <td>0</td>\n",
       "      <td>0</td>\n",
       "      <td>0</td>\n",
       "      <td>0</td>\n",
       "      <td>1</td>\n",
       "      <td>1</td>\n",
       "      <td>0</td>\n",
       "      <td>0</td>\n",
       "      <td>0</td>\n",
       "      <td>1</td>\n",
       "      <td>0</td>\n",
       "      <td>0</td>\n",
       "      <td>1</td>\n",
       "      <td>0</td>\n",
       "      <td>0</td>\n",
       "      <td>1</td>\n",
       "      <td>0</td>\n",
       "    </tr>\n",
       "  </tbody>\n",
       "</table>\n",
       "</div>"
      ],
      "text/plain": [
       "   Population  Children       Age    Income  VitD_levels  Doc_visits  \\\n",
       "0   -0.475916 -0.497265 -0.024941  1.879521     0.594656    0.947403   \n",
       "1    0.216989  0.555525 -0.121935  0.312032     0.493463   -0.974406   \n",
       "2    0.699999  0.555525 -0.024941 -0.966392     0.049247   -0.974406   \n",
       "3   -0.541374 -1.023660  1.187493  0.033592    -0.695763   -0.974406   \n",
       "4   -0.282115 -0.497265 -1.528358 -1.485102    -0.261929   -0.013502   \n",
       "\n",
       "   Full_meals_eaten  vitD_supp Initial_admin  Initial_days  TotalCharge  \\\n",
       "0         -1.012306  -0.645078     Emergency     -0.904410    -0.724088   \n",
       "1          1.030856   1.062578     Emergency     -0.731800    -0.510241   \n",
       "2          0.009275  -0.645078      Elective     -1.125258    -1.316580   \n",
       "3          0.009275  -0.645078      Elective     -1.241399    -1.457042   \n",
       "4         -1.012306   2.770235      Elective     -1.258876    -1.463807   \n",
       "\n",
       "   Additional_charges     Item1     Item2     Item3     Item4     Item5  \\\n",
       "0            0.765677 -0.495254 -0.481819 -1.469542 -1.465406  0.494580   \n",
       "1            0.715820 -0.495254  0.494482 -0.489212  0.475879  0.494580   \n",
       "2            0.699354 -1.475800  0.494482  0.491119  0.475879 -0.482123   \n",
       "3            0.010210 -0.495254  1.470784  1.471449 -0.494763  0.494580   \n",
       "4           -1.406783 -1.475800 -2.434423 -0.489212 -0.494763  1.471284   \n",
       "\n",
       "      Item6     Item7     Item8  Area_Rural  Area_Suburban  Area_Urban  \\\n",
       "0 -0.502239 -0.484018  0.480089           0              1           0   \n",
       "1  0.473142 -0.484018 -0.488253           0              0           1   \n",
       "2  0.473142 -0.484018 -0.488253           0              1           0   \n",
       "3  1.448523  1.497459  1.448431           0              1           0   \n",
       "4 -0.502239  0.506720 -0.488253           1              0           0   \n",
       "\n",
       "   Marital_Divorced  Marital_Married  Marital_Never_Married  \\\n",
       "0                 1                0                      0   \n",
       "1                 0                1                      0   \n",
       "2                 0                0                      0   \n",
       "3                 0                1                      0   \n",
       "4                 0                0                      0   \n",
       "\n",
       "   Marital_Separated  Marital_Widowed  Gender_Female  Gender_Male  \\\n",
       "0                  0                0              0            1   \n",
       "1                  0                0              1            0   \n",
       "2                  0                1              1            0   \n",
       "3                  0                0              0            1   \n",
       "4                  0                1              1            0   \n",
       "\n",
       "   Gender_Nonbinary  Complication_risk_High  Complication_risk_Low  \\\n",
       "0                 0                       0                      0   \n",
       "1                 0                       1                      0   \n",
       "2                 0                       0                      0   \n",
       "3                 0                       0                      0   \n",
       "4                 0                       0                      1   \n",
       "\n",
       "   Complication_risk_Medium  Services_Blood_Work  Services_CT_Scan  \\\n",
       "0                         1                    1                 0   \n",
       "1                         0                    0                 0   \n",
       "2                         1                    1                 0   \n",
       "3                         1                    1                 0   \n",
       "4                         0                    0                 1   \n",
       "\n",
       "   Services_Intravenous  Services_MRI  ReAdmis_No  ReAdmis_Yes  \n",
       "0                     0             0           1            0  \n",
       "1                     1             0           1            0  \n",
       "2                     0             0           1            0  \n",
       "3                     0             0           1            0  \n",
       "4                     0             0           1            0  "
      ]
     },
     "execution_count": 63,
     "metadata": {},
     "output_type": "execute_result"
    }
   ],
   "source": [
    "df.head(5)"
   ]
  },
  {
   "cell_type": "code",
   "execution_count": 64,
   "metadata": {},
   "outputs": [],
   "source": [
    "#df = df.drop(columns=titles)"
   ]
  },
  {
   "cell_type": "code",
   "execution_count": null,
   "metadata": {},
   "outputs": [],
   "source": []
  },
  {
   "cell_type": "markdown",
   "metadata": {},
   "source": [
    "#Combine both dataframes, categories and numerical"
   ]
  },
  {
   "cell_type": "code",
   "execution_count": 65,
   "metadata": {},
   "outputs": [],
   "source": [
    "#df = pd.concat([scaled_df, df], axis=1)"
   ]
  },
  {
   "cell_type": "code",
   "execution_count": 66,
   "metadata": {},
   "outputs": [
    {
     "data": {
      "text/html": [
       "<div>\n",
       "<style scoped>\n",
       "    .dataframe tbody tr th:only-of-type {\n",
       "        vertical-align: middle;\n",
       "    }\n",
       "\n",
       "    .dataframe tbody tr th {\n",
       "        vertical-align: top;\n",
       "    }\n",
       "\n",
       "    .dataframe thead th {\n",
       "        text-align: right;\n",
       "    }\n",
       "</style>\n",
       "<table border=\"1\" class=\"dataframe\">\n",
       "  <thead>\n",
       "    <tr style=\"text-align: right;\">\n",
       "      <th></th>\n",
       "      <th>Population</th>\n",
       "      <th>Children</th>\n",
       "      <th>Age</th>\n",
       "      <th>Income</th>\n",
       "      <th>VitD_levels</th>\n",
       "      <th>Doc_visits</th>\n",
       "      <th>Full_meals_eaten</th>\n",
       "      <th>vitD_supp</th>\n",
       "      <th>Initial_admin</th>\n",
       "      <th>Initial_days</th>\n",
       "      <th>TotalCharge</th>\n",
       "      <th>Additional_charges</th>\n",
       "      <th>Item1</th>\n",
       "      <th>Item2</th>\n",
       "      <th>Item3</th>\n",
       "      <th>Item4</th>\n",
       "      <th>Item5</th>\n",
       "      <th>Item6</th>\n",
       "      <th>Item7</th>\n",
       "      <th>Item8</th>\n",
       "      <th>Area_Rural</th>\n",
       "      <th>Area_Suburban</th>\n",
       "      <th>Area_Urban</th>\n",
       "      <th>Marital_Divorced</th>\n",
       "      <th>Marital_Married</th>\n",
       "      <th>Marital_Never_Married</th>\n",
       "      <th>Marital_Separated</th>\n",
       "      <th>Marital_Widowed</th>\n",
       "      <th>Gender_Female</th>\n",
       "      <th>Gender_Male</th>\n",
       "      <th>Gender_Nonbinary</th>\n",
       "      <th>Complication_risk_High</th>\n",
       "      <th>Complication_risk_Low</th>\n",
       "      <th>Complication_risk_Medium</th>\n",
       "      <th>Services_Blood_Work</th>\n",
       "      <th>Services_CT_Scan</th>\n",
       "      <th>Services_Intravenous</th>\n",
       "      <th>Services_MRI</th>\n",
       "      <th>ReAdmis_No</th>\n",
       "      <th>ReAdmis_Yes</th>\n",
       "    </tr>\n",
       "  </thead>\n",
       "  <tbody>\n",
       "    <tr>\n",
       "      <th>0</th>\n",
       "      <td>-0.475916</td>\n",
       "      <td>-0.497265</td>\n",
       "      <td>-0.024941</td>\n",
       "      <td>1.879521</td>\n",
       "      <td>0.594656</td>\n",
       "      <td>0.947403</td>\n",
       "      <td>-1.012306</td>\n",
       "      <td>-0.645078</td>\n",
       "      <td>Emergency</td>\n",
       "      <td>-0.904410</td>\n",
       "      <td>-0.724088</td>\n",
       "      <td>0.765677</td>\n",
       "      <td>-0.495254</td>\n",
       "      <td>-0.481819</td>\n",
       "      <td>-1.469542</td>\n",
       "      <td>-1.465406</td>\n",
       "      <td>0.494580</td>\n",
       "      <td>-0.502239</td>\n",
       "      <td>-0.484018</td>\n",
       "      <td>0.480089</td>\n",
       "      <td>0</td>\n",
       "      <td>1</td>\n",
       "      <td>0</td>\n",
       "      <td>1</td>\n",
       "      <td>0</td>\n",
       "      <td>0</td>\n",
       "      <td>0</td>\n",
       "      <td>0</td>\n",
       "      <td>0</td>\n",
       "      <td>1</td>\n",
       "      <td>0</td>\n",
       "      <td>0</td>\n",
       "      <td>0</td>\n",
       "      <td>1</td>\n",
       "      <td>1</td>\n",
       "      <td>0</td>\n",
       "      <td>0</td>\n",
       "      <td>0</td>\n",
       "      <td>1</td>\n",
       "      <td>0</td>\n",
       "    </tr>\n",
       "    <tr>\n",
       "      <th>1</th>\n",
       "      <td>0.216989</td>\n",
       "      <td>0.555525</td>\n",
       "      <td>-0.121935</td>\n",
       "      <td>0.312032</td>\n",
       "      <td>0.493463</td>\n",
       "      <td>-0.974406</td>\n",
       "      <td>1.030856</td>\n",
       "      <td>1.062578</td>\n",
       "      <td>Emergency</td>\n",
       "      <td>-0.731800</td>\n",
       "      <td>-0.510241</td>\n",
       "      <td>0.715820</td>\n",
       "      <td>-0.495254</td>\n",
       "      <td>0.494482</td>\n",
       "      <td>-0.489212</td>\n",
       "      <td>0.475879</td>\n",
       "      <td>0.494580</td>\n",
       "      <td>0.473142</td>\n",
       "      <td>-0.484018</td>\n",
       "      <td>-0.488253</td>\n",
       "      <td>0</td>\n",
       "      <td>0</td>\n",
       "      <td>1</td>\n",
       "      <td>0</td>\n",
       "      <td>1</td>\n",
       "      <td>0</td>\n",
       "      <td>0</td>\n",
       "      <td>0</td>\n",
       "      <td>1</td>\n",
       "      <td>0</td>\n",
       "      <td>0</td>\n",
       "      <td>1</td>\n",
       "      <td>0</td>\n",
       "      <td>0</td>\n",
       "      <td>0</td>\n",
       "      <td>0</td>\n",
       "      <td>1</td>\n",
       "      <td>0</td>\n",
       "      <td>1</td>\n",
       "      <td>0</td>\n",
       "    </tr>\n",
       "    <tr>\n",
       "      <th>2</th>\n",
       "      <td>0.699999</td>\n",
       "      <td>0.555525</td>\n",
       "      <td>-0.024941</td>\n",
       "      <td>-0.966392</td>\n",
       "      <td>0.049247</td>\n",
       "      <td>-0.974406</td>\n",
       "      <td>0.009275</td>\n",
       "      <td>-0.645078</td>\n",
       "      <td>Elective</td>\n",
       "      <td>-1.125258</td>\n",
       "      <td>-1.316580</td>\n",
       "      <td>0.699354</td>\n",
       "      <td>-1.475800</td>\n",
       "      <td>0.494482</td>\n",
       "      <td>0.491119</td>\n",
       "      <td>0.475879</td>\n",
       "      <td>-0.482123</td>\n",
       "      <td>0.473142</td>\n",
       "      <td>-0.484018</td>\n",
       "      <td>-0.488253</td>\n",
       "      <td>0</td>\n",
       "      <td>1</td>\n",
       "      <td>0</td>\n",
       "      <td>0</td>\n",
       "      <td>0</td>\n",
       "      <td>0</td>\n",
       "      <td>0</td>\n",
       "      <td>1</td>\n",
       "      <td>1</td>\n",
       "      <td>0</td>\n",
       "      <td>0</td>\n",
       "      <td>0</td>\n",
       "      <td>0</td>\n",
       "      <td>1</td>\n",
       "      <td>1</td>\n",
       "      <td>0</td>\n",
       "      <td>0</td>\n",
       "      <td>0</td>\n",
       "      <td>1</td>\n",
       "      <td>0</td>\n",
       "    </tr>\n",
       "    <tr>\n",
       "      <th>3</th>\n",
       "      <td>-0.541374</td>\n",
       "      <td>-1.023660</td>\n",
       "      <td>1.187493</td>\n",
       "      <td>0.033592</td>\n",
       "      <td>-0.695763</td>\n",
       "      <td>-0.974406</td>\n",
       "      <td>0.009275</td>\n",
       "      <td>-0.645078</td>\n",
       "      <td>Elective</td>\n",
       "      <td>-1.241399</td>\n",
       "      <td>-1.457042</td>\n",
       "      <td>0.010210</td>\n",
       "      <td>-0.495254</td>\n",
       "      <td>1.470784</td>\n",
       "      <td>1.471449</td>\n",
       "      <td>-0.494763</td>\n",
       "      <td>0.494580</td>\n",
       "      <td>1.448523</td>\n",
       "      <td>1.497459</td>\n",
       "      <td>1.448431</td>\n",
       "      <td>0</td>\n",
       "      <td>1</td>\n",
       "      <td>0</td>\n",
       "      <td>0</td>\n",
       "      <td>1</td>\n",
       "      <td>0</td>\n",
       "      <td>0</td>\n",
       "      <td>0</td>\n",
       "      <td>0</td>\n",
       "      <td>1</td>\n",
       "      <td>0</td>\n",
       "      <td>0</td>\n",
       "      <td>0</td>\n",
       "      <td>1</td>\n",
       "      <td>1</td>\n",
       "      <td>0</td>\n",
       "      <td>0</td>\n",
       "      <td>0</td>\n",
       "      <td>1</td>\n",
       "      <td>0</td>\n",
       "    </tr>\n",
       "    <tr>\n",
       "      <th>4</th>\n",
       "      <td>-0.282115</td>\n",
       "      <td>-0.497265</td>\n",
       "      <td>-1.528358</td>\n",
       "      <td>-1.485102</td>\n",
       "      <td>-0.261929</td>\n",
       "      <td>-0.013502</td>\n",
       "      <td>-1.012306</td>\n",
       "      <td>2.770235</td>\n",
       "      <td>Elective</td>\n",
       "      <td>-1.258876</td>\n",
       "      <td>-1.463807</td>\n",
       "      <td>-1.406783</td>\n",
       "      <td>-1.475800</td>\n",
       "      <td>-2.434423</td>\n",
       "      <td>-0.489212</td>\n",
       "      <td>-0.494763</td>\n",
       "      <td>1.471284</td>\n",
       "      <td>-0.502239</td>\n",
       "      <td>0.506720</td>\n",
       "      <td>-0.488253</td>\n",
       "      <td>1</td>\n",
       "      <td>0</td>\n",
       "      <td>0</td>\n",
       "      <td>0</td>\n",
       "      <td>0</td>\n",
       "      <td>0</td>\n",
       "      <td>0</td>\n",
       "      <td>1</td>\n",
       "      <td>1</td>\n",
       "      <td>0</td>\n",
       "      <td>0</td>\n",
       "      <td>0</td>\n",
       "      <td>1</td>\n",
       "      <td>0</td>\n",
       "      <td>0</td>\n",
       "      <td>1</td>\n",
       "      <td>0</td>\n",
       "      <td>0</td>\n",
       "      <td>1</td>\n",
       "      <td>0</td>\n",
       "    </tr>\n",
       "  </tbody>\n",
       "</table>\n",
       "</div>"
      ],
      "text/plain": [
       "   Population  Children       Age    Income  VitD_levels  Doc_visits  \\\n",
       "0   -0.475916 -0.497265 -0.024941  1.879521     0.594656    0.947403   \n",
       "1    0.216989  0.555525 -0.121935  0.312032     0.493463   -0.974406   \n",
       "2    0.699999  0.555525 -0.024941 -0.966392     0.049247   -0.974406   \n",
       "3   -0.541374 -1.023660  1.187493  0.033592    -0.695763   -0.974406   \n",
       "4   -0.282115 -0.497265 -1.528358 -1.485102    -0.261929   -0.013502   \n",
       "\n",
       "   Full_meals_eaten  vitD_supp Initial_admin  Initial_days  TotalCharge  \\\n",
       "0         -1.012306  -0.645078     Emergency     -0.904410    -0.724088   \n",
       "1          1.030856   1.062578     Emergency     -0.731800    -0.510241   \n",
       "2          0.009275  -0.645078      Elective     -1.125258    -1.316580   \n",
       "3          0.009275  -0.645078      Elective     -1.241399    -1.457042   \n",
       "4         -1.012306   2.770235      Elective     -1.258876    -1.463807   \n",
       "\n",
       "   Additional_charges     Item1     Item2     Item3     Item4     Item5  \\\n",
       "0            0.765677 -0.495254 -0.481819 -1.469542 -1.465406  0.494580   \n",
       "1            0.715820 -0.495254  0.494482 -0.489212  0.475879  0.494580   \n",
       "2            0.699354 -1.475800  0.494482  0.491119  0.475879 -0.482123   \n",
       "3            0.010210 -0.495254  1.470784  1.471449 -0.494763  0.494580   \n",
       "4           -1.406783 -1.475800 -2.434423 -0.489212 -0.494763  1.471284   \n",
       "\n",
       "      Item6     Item7     Item8  Area_Rural  Area_Suburban  Area_Urban  \\\n",
       "0 -0.502239 -0.484018  0.480089           0              1           0   \n",
       "1  0.473142 -0.484018 -0.488253           0              0           1   \n",
       "2  0.473142 -0.484018 -0.488253           0              1           0   \n",
       "3  1.448523  1.497459  1.448431           0              1           0   \n",
       "4 -0.502239  0.506720 -0.488253           1              0           0   \n",
       "\n",
       "   Marital_Divorced  Marital_Married  Marital_Never_Married  \\\n",
       "0                 1                0                      0   \n",
       "1                 0                1                      0   \n",
       "2                 0                0                      0   \n",
       "3                 0                1                      0   \n",
       "4                 0                0                      0   \n",
       "\n",
       "   Marital_Separated  Marital_Widowed  Gender_Female  Gender_Male  \\\n",
       "0                  0                0              0            1   \n",
       "1                  0                0              1            0   \n",
       "2                  0                1              1            0   \n",
       "3                  0                0              0            1   \n",
       "4                  0                1              1            0   \n",
       "\n",
       "   Gender_Nonbinary  Complication_risk_High  Complication_risk_Low  \\\n",
       "0                 0                       0                      0   \n",
       "1                 0                       1                      0   \n",
       "2                 0                       0                      0   \n",
       "3                 0                       0                      0   \n",
       "4                 0                       0                      1   \n",
       "\n",
       "   Complication_risk_Medium  Services_Blood_Work  Services_CT_Scan  \\\n",
       "0                         1                    1                 0   \n",
       "1                         0                    0                 0   \n",
       "2                         1                    1                 0   \n",
       "3                         1                    1                 0   \n",
       "4                         0                    0                 1   \n",
       "\n",
       "   Services_Intravenous  Services_MRI  ReAdmis_No  ReAdmis_Yes  \n",
       "0                     0             0           1            0  \n",
       "1                     1             0           1            0  \n",
       "2                     0             0           1            0  \n",
       "3                     0             0           1            0  \n",
       "4                     0             0           1            0  "
      ]
     },
     "execution_count": 66,
     "metadata": {},
     "output_type": "execute_result"
    }
   ],
   "source": [
    "df.head(5)"
   ]
  },
  {
   "cell_type": "code",
   "execution_count": 67,
   "metadata": {},
   "outputs": [
    {
     "data": {
      "text/plain": [
       "(9252, 40)"
      ]
     },
     "execution_count": 67,
     "metadata": {},
     "output_type": "execute_result"
    }
   ],
   "source": [
    "df.shape"
   ]
  },
  {
   "cell_type": "code",
   "execution_count": 68,
   "metadata": {},
   "outputs": [],
   "source": [
    "df.to_csv('prepped_med_data.csv')"
   ]
  },
  {
   "cell_type": "code",
   "execution_count": 69,
   "metadata": {},
   "outputs": [],
   "source": [
    "# cont_df = pd.concat([scaled_df, df['Initial_admin']], axis=1)\n",
    "# cont_df.shape"
   ]
  },
  {
   "cell_type": "markdown",
   "metadata": {},
   "source": [
    "Train Test Split"
   ]
  },
  {
   "cell_type": "code",
   "execution_count": 70,
   "metadata": {},
   "outputs": [],
   "source": [
    "from sklearn.model_selection import train_test_split\n",
    "train , test = train_test_split(df, test_size = 0.25)\n",
    "\n",
    "x_train = train.drop('Initial_admin', axis=1)\n",
    "y_train = train['Initial_admin']\n",
    "\n",
    "x_test = test.drop('Initial_admin', axis = 1)\n",
    "y_test = test['Initial_admin']"
   ]
  },
  {
   "cell_type": "code",
   "execution_count": 71,
   "metadata": {},
   "outputs": [],
   "source": [
    "train.to_csv('train.csv')"
   ]
  },
  {
   "cell_type": "code",
   "execution_count": 72,
   "metadata": {},
   "outputs": [],
   "source": [
    "test.to_csv('test.csv')"
   ]
  },
  {
   "cell_type": "markdown",
   "metadata": {},
   "source": [
    "Gross KNN Implementation"
   ]
  },
  {
   "cell_type": "code",
   "execution_count": 73,
   "metadata": {},
   "outputs": [
    {
     "data": {
      "text/plain": [
       "KNeighborsClassifier(weights='distance')"
      ]
     },
     "execution_count": 73,
     "metadata": {},
     "output_type": "execute_result"
    }
   ],
   "source": [
    "from sklearn.neighbors import KNeighborsClassifier\n",
    "knn = KNeighborsClassifier(n_neighbors=5, weights='distance')\n",
    "knn.fit(x_train, y_train)"
   ]
  },
  {
   "cell_type": "code",
   "execution_count": 74,
   "metadata": {},
   "outputs": [
    {
     "name": "stdout",
     "output_type": "stream",
     "text": [
      "0.4310419368785128\n"
     ]
    }
   ],
   "source": [
    "print(knn.score(x_test, y_test))"
   ]
  },
  {
   "cell_type": "code",
   "execution_count": 75,
   "metadata": {},
   "outputs": [],
   "source": [
    "# Predict the labels for the training data X\n",
    "y_pred = knn.predict(x_test)"
   ]
  },
  {
   "cell_type": "code",
   "execution_count": 76,
   "metadata": {},
   "outputs": [
    {
     "data": {
      "text/html": [
       "<div>\n",
       "<style scoped>\n",
       "    .dataframe tbody tr th:only-of-type {\n",
       "        vertical-align: middle;\n",
       "    }\n",
       "\n",
       "    .dataframe tbody tr th {\n",
       "        vertical-align: top;\n",
       "    }\n",
       "\n",
       "    .dataframe thead th {\n",
       "        text-align: right;\n",
       "    }\n",
       "</style>\n",
       "<table border=\"1\" class=\"dataframe\">\n",
       "  <thead>\n",
       "    <tr style=\"text-align: right;\">\n",
       "      <th></th>\n",
       "      <th>Predicted</th>\n",
       "      <th>Actual</th>\n",
       "    </tr>\n",
       "  </thead>\n",
       "  <tbody>\n",
       "    <tr>\n",
       "      <th>7255</th>\n",
       "      <td>Emergency</td>\n",
       "      <td>Emergency</td>\n",
       "    </tr>\n",
       "    <tr>\n",
       "      <th>1202</th>\n",
       "      <td>Emergency</td>\n",
       "      <td>Emergency</td>\n",
       "    </tr>\n",
       "    <tr>\n",
       "      <th>5706</th>\n",
       "      <td>Emergency</td>\n",
       "      <td>Emergency</td>\n",
       "    </tr>\n",
       "    <tr>\n",
       "      <th>264</th>\n",
       "      <td>Emergency</td>\n",
       "      <td>Emergency</td>\n",
       "    </tr>\n",
       "    <tr>\n",
       "      <th>2135</th>\n",
       "      <td>Emergency</td>\n",
       "      <td>Elective</td>\n",
       "    </tr>\n",
       "    <tr>\n",
       "      <th>8098</th>\n",
       "      <td>Elective</td>\n",
       "      <td>Emergency</td>\n",
       "    </tr>\n",
       "    <tr>\n",
       "      <th>8580</th>\n",
       "      <td>Observation</td>\n",
       "      <td>Elective</td>\n",
       "    </tr>\n",
       "    <tr>\n",
       "      <th>2422</th>\n",
       "      <td>Observation</td>\n",
       "      <td>Elective</td>\n",
       "    </tr>\n",
       "    <tr>\n",
       "      <th>4613</th>\n",
       "      <td>Observation</td>\n",
       "      <td>Emergency</td>\n",
       "    </tr>\n",
       "    <tr>\n",
       "      <th>8628</th>\n",
       "      <td>Emergency</td>\n",
       "      <td>Emergency</td>\n",
       "    </tr>\n",
       "    <tr>\n",
       "      <th>7791</th>\n",
       "      <td>Emergency</td>\n",
       "      <td>Elective</td>\n",
       "    </tr>\n",
       "    <tr>\n",
       "      <th>1010</th>\n",
       "      <td>Observation</td>\n",
       "      <td>Elective</td>\n",
       "    </tr>\n",
       "    <tr>\n",
       "      <th>9165</th>\n",
       "      <td>Emergency</td>\n",
       "      <td>Emergency</td>\n",
       "    </tr>\n",
       "    <tr>\n",
       "      <th>5801</th>\n",
       "      <td>Elective</td>\n",
       "      <td>Elective</td>\n",
       "    </tr>\n",
       "    <tr>\n",
       "      <th>6514</th>\n",
       "      <td>Observation</td>\n",
       "      <td>Elective</td>\n",
       "    </tr>\n",
       "  </tbody>\n",
       "</table>\n",
       "</div>"
      ],
      "text/plain": [
       "        Predicted     Actual\n",
       "7255    Emergency  Emergency\n",
       "1202    Emergency  Emergency\n",
       "5706    Emergency  Emergency\n",
       "264     Emergency  Emergency\n",
       "2135    Emergency   Elective\n",
       "8098     Elective  Emergency\n",
       "8580  Observation   Elective\n",
       "2422  Observation   Elective\n",
       "4613  Observation  Emergency\n",
       "8628    Emergency  Emergency\n",
       "7791    Emergency   Elective\n",
       "1010  Observation   Elective\n",
       "9165    Emergency  Emergency\n",
       "5801     Elective   Elective\n",
       "6514  Observation   Elective"
      ]
     },
     "execution_count": 76,
     "metadata": {},
     "output_type": "execute_result"
    }
   ],
   "source": [
    "pd.DataFrame(data={'Predicted': y_pred, 'Actual': y_test}).head(15)"
   ]
  },
  {
   "cell_type": "code",
   "execution_count": 77,
   "metadata": {},
   "outputs": [
    {
     "name": "stdout",
     "output_type": "stream",
     "text": [
      "0.4310419368785128\n"
     ]
    }
   ],
   "source": [
    "from sklearn.metrics import accuracy_score\n",
    "# print ('accuracy =', metrics.accuracy_score(y_test, y_pred))\n",
    "accuracy = accuracy_score(y_test, y_pred)\n",
    "print(accuracy)"
   ]
  },
  {
   "cell_type": "code",
   "execution_count": 78,
   "metadata": {},
   "outputs": [
    {
     "data": {
      "text/plain": [
       "0.4310419368785128"
      ]
     },
     "execution_count": 78,
     "metadata": {},
     "output_type": "execute_result"
    }
   ],
   "source": [
    "from sklearn.metrics import recall_score\n",
    "recall_score(y_test, y_pred, average='micro' )"
   ]
  },
  {
   "cell_type": "code",
   "execution_count": 79,
   "metadata": {},
   "outputs": [
    {
     "data": {
      "text/plain": [
       "0.4310419368785128"
      ]
     },
     "execution_count": 79,
     "metadata": {},
     "output_type": "execute_result"
    }
   ],
   "source": [
    "from sklearn.metrics import precision_score\n",
    "precision_score(y_test, y_pred,  average='micro')"
   ]
  },
  {
   "cell_type": "code",
   "execution_count": 80,
   "metadata": {},
   "outputs": [
    {
     "data": {
      "text/plain": [
       "0.43104193687851283"
      ]
     },
     "execution_count": 80,
     "metadata": {},
     "output_type": "execute_result"
    }
   ],
   "source": [
    "from sklearn.metrics import f1_score\n",
    "f1_score(y_test, y_pred,  average='micro')"
   ]
  },
  {
   "cell_type": "code",
   "execution_count": 81,
   "metadata": {},
   "outputs": [
    {
     "name": "stdout",
     "output_type": "stream",
     "text": [
      "              precision    recall  f1-score   support\n",
      "\n",
      "    Elective       0.30      0.22      0.25       575\n",
      "   Emergency       0.52      0.66      0.58      1165\n",
      " Observation       0.25      0.18      0.21       573\n",
      "\n",
      "    accuracy                           0.43      2313\n",
      "   macro avg       0.35      0.35      0.35      2313\n",
      "weighted avg       0.40      0.43      0.41      2313\n",
      "\n"
     ]
    }
   ],
   "source": [
    "from sklearn.metrics import classification_report\n",
    "print(classification_report(y_test, y_pred))"
   ]
  },
  {
   "cell_type": "code",
   "execution_count": 82,
   "metadata": {},
   "outputs": [
    {
     "data": {
      "text/plain": [
       "<matplotlib.axes._subplots.AxesSubplot at 0x22fda674e80>"
      ]
     },
     "execution_count": 82,
     "metadata": {},
     "output_type": "execute_result"
    },
    {
     "data": {
      "image/png": "[encoded data removed]",
      "text/plain": [
       "<Figure size 720x576 with 1 Axes>"
      ]
     },
     "metadata": {
      "needs_background": "light"
     },
     "output_type": "display_data"
    }
   ],
   "source": [
    "import scikitplot as skplt\n",
    "y_probas=knn.predict_proba(x_test)\n",
    "skplt.metrics.plot_roc(y_test, y_probas, figsize=(10, 8))"
   ]
  },
  {
   "cell_type": "code",
   "execution_count": 83,
   "metadata": {},
   "outputs": [],
   "source": [
    "#https://medium.com/@plog397/auc-roc-curve-scoring-function-for-multi-class-classification-9822871a6659\n",
    "from sklearn import preprocessing\n",
    "from sklearn.metrics import roc_auc_score\n",
    "# probs = y_probas[:, 1]\n",
    "# print ('ROC AUC =', roc_auc_score(y_test, probs, multi_class='ovo'))\n",
    "\n",
    "def multiclass_roc_auc_score(y_test, y_pred, average=\"macro\"):\n",
    "    lb = preprocessing.LabelBinarizer()\n",
    "    lb.fit(y_test)\n",
    "    y_test = lb.transform(y_test)\n",
    "    y_pred = lb.transform(y_pred)\n",
    "    return roc_auc_score(y_test, y_pred, average=average)"
   ]
  },
  {
   "cell_type": "code",
   "execution_count": 84,
   "metadata": {},
   "outputs": [
    {
     "data": {
      "text/plain": [
       "0.514555639471402"
      ]
     },
     "execution_count": 84,
     "metadata": {},
     "output_type": "execute_result"
    }
   ],
   "source": [
    "multiclass_roc_auc_score(y_test, y_pred)"
   ]
  },
  {
   "cell_type": "code",
   "execution_count": 85,
   "metadata": {},
   "outputs": [
    {
     "name": "stdout",
     "output_type": "stream",
     "text": [
      "Prediction: ['Emergency' 'Emergency' 'Emergency' ... 'Elective' 'Emergency'\n",
      " 'Emergency']\n"
     ]
    }
   ],
   "source": [
    "# Predict and print the label for the new data point X_new\n",
    "new_prediction = knn.predict(x_test)\n",
    "print(\"Prediction: {}\".format(new_prediction))"
   ]
  },
  {
   "cell_type": "code",
   "execution_count": 86,
   "metadata": {},
   "outputs": [],
   "source": [
    "\n",
    "from sklearn.feature_selection import SelectKBest, f_classif\n",
    "\n",
    "array = df.values\n",
    "\n",
    "X = df.drop('Initial_admin', axis=1)\n",
    "\n",
    "Y = df['Initial_admin']\n",
    "\n",
    "f_test = SelectKBest(f_classif, k=5)\n",
    "\n",
    "#Fit the function for ranking the features by score\n",
    "\n",
    "fit = f_test.fit(X, Y)\n",
    "\n",
    "#Summarize scores numpy.set_printoptions(precision=3) print(fit.scores_)\n",
    "\n",
    "#Apply the transformation on to dataset\n",
    "\n",
    "features = fit.transform(X)\n",
    "\n",
    "fit = fit.transform(X)\n",
    "#Summarize selected features print(features[0:5,:])"
   ]
  },
  {
   "cell_type": "code",
   "execution_count": 87,
   "metadata": {},
   "outputs": [
    {
     "name": "stdout",
     "output_type": "stream",
     "text": [
      "<class 'numpy.ndarray'>\n"
     ]
    }
   ],
   "source": [
    "print(type(features))"
   ]
  },
  {
   "cell_type": "code",
   "execution_count": 88,
   "metadata": {},
   "outputs": [
    {
     "name": "stdout",
     "output_type": "stream",
     "text": [
      "(9252, 5)\n"
     ]
    }
   ],
   "source": [
    "print(features.shape)"
   ]
  },
  {
   "cell_type": "code",
   "execution_count": 89,
   "metadata": {},
   "outputs": [
    {
     "name": "stdout",
     "output_type": "stream",
     "text": [
      "[[ 1.8795209   0.5946563  -0.72408774  0.76567673  0.        ]\n",
      " [ 0.31203169  0.49346321 -0.51024086  0.71582026  1.        ]\n",
      " [-0.96639229  0.04924707 -1.31658019  0.69935359  0.        ]\n",
      " ...\n",
      " [ 1.06530342 -0.41790952  1.36161796  0.35965352  1.        ]\n",
      " [-0.36209098  0.98157175  1.07189794 -0.78585532  0.        ]\n",
      " [ 0.9377923   0.21585117  1.1833259  -0.19603236  0.        ]]\n"
     ]
    }
   ],
   "source": [
    "print(features)"
   ]
  },
  {
   "cell_type": "code",
   "execution_count": 90,
   "metadata": {},
   "outputs": [
    {
     "name": "stdout",
     "output_type": "stream",
     "text": [
      "[False False False  True  True False False False False  True  True False\n",
      " False False False False False False False False False False False False\n",
      " False False False False False False  True False False False False False\n",
      " False False False]\n"
     ]
    }
   ],
   "source": [
    "print(f_test.get_support())"
   ]
  },
  {
   "cell_type": "code",
   "execution_count": 91,
   "metadata": {},
   "outputs": [],
   "source": [
    "ser = pd.DataFrame(f_test.get_support())"
   ]
  },
  {
   "cell_type": "code",
   "execution_count": 92,
   "metadata": {},
   "outputs": [],
   "source": [
    "col = pd.DataFrame(df.columns)\n",
    "features_sel = pd.concat([col,ser], axis=1)"
   ]
  },
  {
   "cell_type": "code",
   "execution_count": 93,
   "metadata": {},
   "outputs": [
    {
     "data": {
      "text/html": [
       "<div>\n",
       "<style scoped>\n",
       "    .dataframe tbody tr th:only-of-type {\n",
       "        vertical-align: middle;\n",
       "    }\n",
       "\n",
       "    .dataframe tbody tr th {\n",
       "        vertical-align: top;\n",
       "    }\n",
       "\n",
       "    .dataframe thead th {\n",
       "        text-align: right;\n",
       "    }\n",
       "</style>\n",
       "<table border=\"1\" class=\"dataframe\">\n",
       "  <thead>\n",
       "    <tr style=\"text-align: right;\">\n",
       "      <th></th>\n",
       "      <th>0</th>\n",
       "      <th>0</th>\n",
       "    </tr>\n",
       "  </thead>\n",
       "  <tbody>\n",
       "    <tr>\n",
       "      <th>0</th>\n",
       "      <td>Population</td>\n",
       "      <td>False</td>\n",
       "    </tr>\n",
       "    <tr>\n",
       "      <th>1</th>\n",
       "      <td>Children</td>\n",
       "      <td>False</td>\n",
       "    </tr>\n",
       "    <tr>\n",
       "      <th>2</th>\n",
       "      <td>Age</td>\n",
       "      <td>False</td>\n",
       "    </tr>\n",
       "    <tr>\n",
       "      <th>3</th>\n",
       "      <td>Income</td>\n",
       "      <td>True</td>\n",
       "    </tr>\n",
       "    <tr>\n",
       "      <th>4</th>\n",
       "      <td>VitD_levels</td>\n",
       "      <td>True</td>\n",
       "    </tr>\n",
       "    <tr>\n",
       "      <th>5</th>\n",
       "      <td>Doc_visits</td>\n",
       "      <td>False</td>\n",
       "    </tr>\n",
       "    <tr>\n",
       "      <th>6</th>\n",
       "      <td>Full_meals_eaten</td>\n",
       "      <td>False</td>\n",
       "    </tr>\n",
       "    <tr>\n",
       "      <th>7</th>\n",
       "      <td>vitD_supp</td>\n",
       "      <td>False</td>\n",
       "    </tr>\n",
       "    <tr>\n",
       "      <th>8</th>\n",
       "      <td>Initial_admin</td>\n",
       "      <td>False</td>\n",
       "    </tr>\n",
       "    <tr>\n",
       "      <th>9</th>\n",
       "      <td>Initial_days</td>\n",
       "      <td>True</td>\n",
       "    </tr>\n",
       "    <tr>\n",
       "      <th>10</th>\n",
       "      <td>TotalCharge</td>\n",
       "      <td>True</td>\n",
       "    </tr>\n",
       "    <tr>\n",
       "      <th>11</th>\n",
       "      <td>Additional_charges</td>\n",
       "      <td>False</td>\n",
       "    </tr>\n",
       "    <tr>\n",
       "      <th>12</th>\n",
       "      <td>Item1</td>\n",
       "      <td>False</td>\n",
       "    </tr>\n",
       "    <tr>\n",
       "      <th>13</th>\n",
       "      <td>Item2</td>\n",
       "      <td>False</td>\n",
       "    </tr>\n",
       "    <tr>\n",
       "      <th>14</th>\n",
       "      <td>Item3</td>\n",
       "      <td>False</td>\n",
       "    </tr>\n",
       "    <tr>\n",
       "      <th>15</th>\n",
       "      <td>Item4</td>\n",
       "      <td>False</td>\n",
       "    </tr>\n",
       "    <tr>\n",
       "      <th>16</th>\n",
       "      <td>Item5</td>\n",
       "      <td>False</td>\n",
       "    </tr>\n",
       "    <tr>\n",
       "      <th>17</th>\n",
       "      <td>Item6</td>\n",
       "      <td>False</td>\n",
       "    </tr>\n",
       "    <tr>\n",
       "      <th>18</th>\n",
       "      <td>Item7</td>\n",
       "      <td>False</td>\n",
       "    </tr>\n",
       "    <tr>\n",
       "      <th>19</th>\n",
       "      <td>Item8</td>\n",
       "      <td>False</td>\n",
       "    </tr>\n",
       "    <tr>\n",
       "      <th>20</th>\n",
       "      <td>Area_Rural</td>\n",
       "      <td>False</td>\n",
       "    </tr>\n",
       "    <tr>\n",
       "      <th>21</th>\n",
       "      <td>Area_Suburban</td>\n",
       "      <td>False</td>\n",
       "    </tr>\n",
       "    <tr>\n",
       "      <th>22</th>\n",
       "      <td>Area_Urban</td>\n",
       "      <td>False</td>\n",
       "    </tr>\n",
       "    <tr>\n",
       "      <th>23</th>\n",
       "      <td>Marital_Divorced</td>\n",
       "      <td>False</td>\n",
       "    </tr>\n",
       "    <tr>\n",
       "      <th>24</th>\n",
       "      <td>Marital_Married</td>\n",
       "      <td>False</td>\n",
       "    </tr>\n",
       "    <tr>\n",
       "      <th>25</th>\n",
       "      <td>Marital_Never_Married</td>\n",
       "      <td>False</td>\n",
       "    </tr>\n",
       "    <tr>\n",
       "      <th>26</th>\n",
       "      <td>Marital_Separated</td>\n",
       "      <td>False</td>\n",
       "    </tr>\n",
       "    <tr>\n",
       "      <th>27</th>\n",
       "      <td>Marital_Widowed</td>\n",
       "      <td>False</td>\n",
       "    </tr>\n",
       "    <tr>\n",
       "      <th>28</th>\n",
       "      <td>Gender_Female</td>\n",
       "      <td>False</td>\n",
       "    </tr>\n",
       "    <tr>\n",
       "      <th>29</th>\n",
       "      <td>Gender_Male</td>\n",
       "      <td>False</td>\n",
       "    </tr>\n",
       "    <tr>\n",
       "      <th>30</th>\n",
       "      <td>Gender_Nonbinary</td>\n",
       "      <td>True</td>\n",
       "    </tr>\n",
       "    <tr>\n",
       "      <th>31</th>\n",
       "      <td>Complication_risk_High</td>\n",
       "      <td>False</td>\n",
       "    </tr>\n",
       "    <tr>\n",
       "      <th>32</th>\n",
       "      <td>Complication_risk_Low</td>\n",
       "      <td>False</td>\n",
       "    </tr>\n",
       "    <tr>\n",
       "      <th>33</th>\n",
       "      <td>Complication_risk_Medium</td>\n",
       "      <td>False</td>\n",
       "    </tr>\n",
       "    <tr>\n",
       "      <th>34</th>\n",
       "      <td>Services_Blood_Work</td>\n",
       "      <td>False</td>\n",
       "    </tr>\n",
       "    <tr>\n",
       "      <th>35</th>\n",
       "      <td>Services_CT_Scan</td>\n",
       "      <td>False</td>\n",
       "    </tr>\n",
       "    <tr>\n",
       "      <th>36</th>\n",
       "      <td>Services_Intravenous</td>\n",
       "      <td>False</td>\n",
       "    </tr>\n",
       "    <tr>\n",
       "      <th>37</th>\n",
       "      <td>Services_MRI</td>\n",
       "      <td>False</td>\n",
       "    </tr>\n",
       "    <tr>\n",
       "      <th>38</th>\n",
       "      <td>ReAdmis_No</td>\n",
       "      <td>False</td>\n",
       "    </tr>\n",
       "    <tr>\n",
       "      <th>39</th>\n",
       "      <td>ReAdmis_Yes</td>\n",
       "      <td>NaN</td>\n",
       "    </tr>\n",
       "  </tbody>\n",
       "</table>\n",
       "</div>"
      ],
      "text/plain": [
       "                           0      0\n",
       "0                 Population  False\n",
       "1                   Children  False\n",
       "2                        Age  False\n",
       "3                     Income   True\n",
       "4                VitD_levels   True\n",
       "5                 Doc_visits  False\n",
       "6           Full_meals_eaten  False\n",
       "7                  vitD_supp  False\n",
       "8              Initial_admin  False\n",
       "9               Initial_days   True\n",
       "10               TotalCharge   True\n",
       "11        Additional_charges  False\n",
       "12                     Item1  False\n",
       "13                     Item2  False\n",
       "14                     Item3  False\n",
       "15                     Item4  False\n",
       "16                     Item5  False\n",
       "17                     Item6  False\n",
       "18                     Item7  False\n",
       "19                     Item8  False\n",
       "20                Area_Rural  False\n",
       "21             Area_Suburban  False\n",
       "22                Area_Urban  False\n",
       "23          Marital_Divorced  False\n",
       "24           Marital_Married  False\n",
       "25     Marital_Never_Married  False\n",
       "26         Marital_Separated  False\n",
       "27           Marital_Widowed  False\n",
       "28             Gender_Female  False\n",
       "29               Gender_Male  False\n",
       "30          Gender_Nonbinary   True\n",
       "31    Complication_risk_High  False\n",
       "32     Complication_risk_Low  False\n",
       "33  Complication_risk_Medium  False\n",
       "34       Services_Blood_Work  False\n",
       "35          Services_CT_Scan  False\n",
       "36      Services_Intravenous  False\n",
       "37              Services_MRI  False\n",
       "38                ReAdmis_No  False\n",
       "39               ReAdmis_Yes    NaN"
      ]
     },
     "execution_count": 93,
     "metadata": {},
     "output_type": "execute_result"
    }
   ],
   "source": [
    "features_sel"
   ]
  },
  {
   "cell_type": "markdown",
   "metadata": {},
   "source": [
    "selected features: Marital_Widowed, Anxiety, Additional_charges, TotalCharge, VitD_levels"
   ]
  },
  {
   "cell_type": "markdown",
   "metadata": {},
   "source": [
    "Reduced Model"
   ]
  },
  {
   "cell_type": "code",
   "execution_count": 94,
   "metadata": {},
   "outputs": [],
   "source": [
    "x_train = train[['Initial_days', 'Income', 'Gender_Nonbinary', 'TotalCharge', 'VitD_levels']]\n",
    "y_train = train['Initial_admin']\n",
    "\n",
    "x_test = test[['Initial_days', 'Income', 'Gender_Nonbinary', 'TotalCharge', 'VitD_levels']]\n",
    "y_test = test['Initial_admin']"
   ]
  },
  {
   "cell_type": "code",
   "execution_count": 95,
   "metadata": {},
   "outputs": [],
   "source": [
    "# knn = KNeighborsClassifier(n_neighbors=10)\n",
    "# knn.fit(x_train, y_train)\n",
    "# print(knn.score(x_test, y_test))"
   ]
  },
  {
   "cell_type": "code",
   "execution_count": 96,
   "metadata": {},
   "outputs": [
    {
     "name": "stdout",
     "output_type": "stream",
     "text": [
      "0.5667963683527886\n"
     ]
    }
   ],
   "source": [
    "knn = KNeighborsClassifier(n_neighbors=5)\n",
    "knn.fit(x_train, y_train)\n",
    "print(knn.score(x_test, y_test))"
   ]
  },
  {
   "cell_type": "code",
   "execution_count": 97,
   "metadata": {},
   "outputs": [],
   "source": [
    "# from sklearn import metrics\n",
    "# #We are going to run it for k = 1 to 15 and will be recording testing accuracy, plotting it, showing confusion matrix and classification report:\n",
    "# range_k = range(1,15)\n",
    "# scores = {}\n",
    "# scores_list = []\n",
    "# for k in range_k:\n",
    "#     classifier = KNeighborsClassifier(n_neighbors=k, weights='distance')\n",
    "#     classifier.fit(x_train, y_train)\n",
    "#     y_pred = classifier.predict(x_test)\n",
    "#     scores[k] = metrics.accuracy_score(y_test,y_pred)\n",
    "#     scores_list.append(metrics.accuracy_score(y_test,y_pred))\n",
    "# result = metrics.confusion_matrix(y_test, y_pred)\n",
    "# print(\"Confusion Matrix:\")\n",
    "# print(result)\n",
    "# result1 = metrics.classification_report(y_test, y_pred)\n",
    "# print(\"Classification Report:\",)\n",
    "# print (result1)"
   ]
  },
  {
   "cell_type": "markdown",
   "metadata": {},
   "source": [
    "#### "
   ]
  },
  {
   "cell_type": "code",
   "execution_count": 98,
   "metadata": {},
   "outputs": [],
   "source": [
    "# Predict the labels for the training data X\n",
    "y_pred = knn.predict(x_test)"
   ]
  },
  {
   "cell_type": "code",
   "execution_count": 99,
   "metadata": {},
   "outputs": [
    {
     "data": {
      "text/html": [
       "<div>\n",
       "<style scoped>\n",
       "    .dataframe tbody tr th:only-of-type {\n",
       "        vertical-align: middle;\n",
       "    }\n",
       "\n",
       "    .dataframe tbody tr th {\n",
       "        vertical-align: top;\n",
       "    }\n",
       "\n",
       "    .dataframe thead th {\n",
       "        text-align: right;\n",
       "    }\n",
       "</style>\n",
       "<table border=\"1\" class=\"dataframe\">\n",
       "  <thead>\n",
       "    <tr style=\"text-align: right;\">\n",
       "      <th></th>\n",
       "      <th>Predicted</th>\n",
       "      <th>Actual</th>\n",
       "    </tr>\n",
       "  </thead>\n",
       "  <tbody>\n",
       "    <tr>\n",
       "      <th>7255</th>\n",
       "      <td>Emergency</td>\n",
       "      <td>Emergency</td>\n",
       "    </tr>\n",
       "    <tr>\n",
       "      <th>1202</th>\n",
       "      <td>Emergency</td>\n",
       "      <td>Emergency</td>\n",
       "    </tr>\n",
       "    <tr>\n",
       "      <th>5706</th>\n",
       "      <td>Elective</td>\n",
       "      <td>Emergency</td>\n",
       "    </tr>\n",
       "    <tr>\n",
       "      <th>264</th>\n",
       "      <td>Elective</td>\n",
       "      <td>Emergency</td>\n",
       "    </tr>\n",
       "    <tr>\n",
       "      <th>2135</th>\n",
       "      <td>Emergency</td>\n",
       "      <td>Elective</td>\n",
       "    </tr>\n",
       "    <tr>\n",
       "      <th>8098</th>\n",
       "      <td>Elective</td>\n",
       "      <td>Emergency</td>\n",
       "    </tr>\n",
       "    <tr>\n",
       "      <th>8580</th>\n",
       "      <td>Elective</td>\n",
       "      <td>Elective</td>\n",
       "    </tr>\n",
       "    <tr>\n",
       "      <th>2422</th>\n",
       "      <td>Emergency</td>\n",
       "      <td>Elective</td>\n",
       "    </tr>\n",
       "    <tr>\n",
       "      <th>4613</th>\n",
       "      <td>Emergency</td>\n",
       "      <td>Emergency</td>\n",
       "    </tr>\n",
       "    <tr>\n",
       "      <th>8628</th>\n",
       "      <td>Emergency</td>\n",
       "      <td>Emergency</td>\n",
       "    </tr>\n",
       "    <tr>\n",
       "      <th>7791</th>\n",
       "      <td>Elective</td>\n",
       "      <td>Elective</td>\n",
       "    </tr>\n",
       "    <tr>\n",
       "      <th>1010</th>\n",
       "      <td>Emergency</td>\n",
       "      <td>Elective</td>\n",
       "    </tr>\n",
       "    <tr>\n",
       "      <th>9165</th>\n",
       "      <td>Emergency</td>\n",
       "      <td>Emergency</td>\n",
       "    </tr>\n",
       "    <tr>\n",
       "      <th>5801</th>\n",
       "      <td>Emergency</td>\n",
       "      <td>Elective</td>\n",
       "    </tr>\n",
       "    <tr>\n",
       "      <th>6514</th>\n",
       "      <td>Emergency</td>\n",
       "      <td>Elective</td>\n",
       "    </tr>\n",
       "  </tbody>\n",
       "</table>\n",
       "</div>"
      ],
      "text/plain": [
       "      Predicted     Actual\n",
       "7255  Emergency  Emergency\n",
       "1202  Emergency  Emergency\n",
       "5706   Elective  Emergency\n",
       "264    Elective  Emergency\n",
       "2135  Emergency   Elective\n",
       "8098   Elective  Emergency\n",
       "8580   Elective   Elective\n",
       "2422  Emergency   Elective\n",
       "4613  Emergency  Emergency\n",
       "8628  Emergency  Emergency\n",
       "7791   Elective   Elective\n",
       "1010  Emergency   Elective\n",
       "9165  Emergency  Emergency\n",
       "5801  Emergency   Elective\n",
       "6514  Emergency   Elective"
      ]
     },
     "execution_count": 99,
     "metadata": {},
     "output_type": "execute_result"
    }
   ],
   "source": [
    "pd.DataFrame(data={'Predicted': y_pred, 'Actual': y_test}).head(15)"
   ]
  },
  {
   "cell_type": "code",
   "execution_count": 100,
   "metadata": {},
   "outputs": [
    {
     "name": "stdout",
     "output_type": "stream",
     "text": [
      "0.5667963683527886\n"
     ]
    }
   ],
   "source": [
    "from sklearn.metrics import accuracy_score\n",
    "# print ('accuracy =', metrics.accuracy_score(y_test, y_pred))\n",
    "accuracy = accuracy_score(y_test, y_pred)\n",
    "print(accuracy)"
   ]
  },
  {
   "cell_type": "code",
   "execution_count": 101,
   "metadata": {},
   "outputs": [
    {
     "data": {
      "text/plain": [
       "0.5667963683527886"
      ]
     },
     "execution_count": 101,
     "metadata": {},
     "output_type": "execute_result"
    }
   ],
   "source": [
    "from sklearn.metrics import recall_score\n",
    "recall_score(y_test, y_pred, average='micro' )"
   ]
  },
  {
   "cell_type": "code",
   "execution_count": 102,
   "metadata": {},
   "outputs": [
    {
     "data": {
      "text/plain": [
       "0.5667963683527886"
      ]
     },
     "execution_count": 102,
     "metadata": {},
     "output_type": "execute_result"
    }
   ],
   "source": [
    "from sklearn.metrics import precision_score\n",
    "precision_score(y_test, y_pred,  average='micro')"
   ]
  },
  {
   "cell_type": "code",
   "execution_count": 103,
   "metadata": {},
   "outputs": [
    {
     "data": {
      "text/plain": [
       "0.5667963683527886"
      ]
     },
     "execution_count": 103,
     "metadata": {},
     "output_type": "execute_result"
    }
   ],
   "source": [
    "from sklearn.metrics import f1_score\n",
    "f1_score(y_test, y_pred,  average='micro')"
   ]
  },
  {
   "cell_type": "code",
   "execution_count": 104,
   "metadata": {},
   "outputs": [
    {
     "name": "stdout",
     "output_type": "stream",
     "text": [
      "              precision    recall  f1-score   support\n",
      "\n",
      "    Elective       0.37      0.42      0.39       575\n",
      "   Emergency       0.70      0.81      0.75      1165\n",
      " Observation       0.40      0.21      0.28       573\n",
      "\n",
      "    accuracy                           0.57      2313\n",
      "   macro avg       0.49      0.48      0.47      2313\n",
      "weighted avg       0.54      0.57      0.55      2313\n",
      "\n"
     ]
    }
   ],
   "source": [
    "from sklearn.metrics import classification_report\n",
    "print(classification_report(y_test, y_pred))"
   ]
  },
  {
   "cell_type": "code",
   "execution_count": 105,
   "metadata": {},
   "outputs": [
    {
     "data": {
      "text/plain": [
       "<matplotlib.axes._subplots.AxesSubplot at 0x22fdc8a60d0>"
      ]
     },
     "execution_count": 105,
     "metadata": {},
     "output_type": "execute_result"
    },
    {
     "data": {
      "image/png": "[encoded data removed]",
      "text/plain": [
       "<Figure size 720x576 with 1 Axes>"
      ]
     },
     "metadata": {
      "needs_background": "light"
     },
     "output_type": "display_data"
    }
   ],
   "source": [
    "import scikitplot as skplt\n",
    "y_probas=knn.predict_proba(x_test)\n",
    "skplt.metrics.plot_roc(y_test, y_probas, figsize=(10, 8))"
   ]
  },
  {
   "cell_type": "code",
   "execution_count": 106,
   "metadata": {},
   "outputs": [],
   "source": [
    "#https://medium.com/@plog397/auc-roc-curve-scoring-function-for-multi-class-classification-9822871a6659\n",
    "from sklearn import preprocessing\n",
    "from sklearn.metrics import roc_auc_score\n",
    "# probs = y_probas[:, 1]\n",
    "# print ('ROC AUC =', roc_auc_score(y_test, probs, multi_class='ovo'))\n",
    "\n",
    "def multiclass_roc_auc_score(y_test, y_pred, average=\"macro\"):\n",
    "    lb = preprocessing.LabelBinarizer()\n",
    "    lb.fit(y_test)\n",
    "    y_test = lb.transform(y_test)\n",
    "    y_pred = lb.transform(y_pred)\n",
    "    return roc_auc_score(y_test, y_pred, average=average)"
   ]
  },
  {
   "cell_type": "code",
   "execution_count": 107,
   "metadata": {},
   "outputs": [
    {
     "data": {
      "text/plain": [
       "0.6248357759238431"
      ]
     },
     "execution_count": 107,
     "metadata": {},
     "output_type": "execute_result"
    }
   ],
   "source": [
    "multiclass_roc_auc_score(y_test, y_pred)"
   ]
  },
  {
   "cell_type": "code",
   "execution_count": null,
   "metadata": {},
   "outputs": [],
   "source": []
  }
 ],
 "metadata": {
  "kernelspec": {
   "display_name": "Python 3",
   "language": "python",
   "name": "python3"
  },
  "language_info": {
   "codemirror_mode": {
    "name": "ipython",
    "version": 3
   },
   "file_extension": ".py",
   "mimetype": "text/x-python",
   "name": "python",
   "nbconvert_exporter": "python",
   "pygments_lexer": "ipython3",
   "version": "3.8.3"
  }
 },
 "nbformat": 4,
 "nbformat_minor": 4
}
